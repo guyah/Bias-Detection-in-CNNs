{
 "cells": [
  {
   "cell_type": "code",
   "execution_count": 1,
   "id": "89d9d1aa",
   "metadata": {},
   "outputs": [],
   "source": [
    "import numpy as np\n",
    "import pandas as pd\n",
    "import matplotlib.pyplot as plt\n",
    "import seaborn as sns\n",
    "import cv2\n",
    "import random\n",
    "import os\n",
    "from tensorflow.keras.preprocessing.image import ImageDataGenerator,load_img\n",
    "from tensorflow.keras.applications.vgg16 import VGG16\n",
    "from tensorflow.keras.applications.mobilenet import MobileNet\n",
    "from tensorflow.keras.models import Sequential\n",
    "from tensorflow.keras.optimizers import Adam\n",
    "from tensorflow.keras.layers import Flatten,Dense,Dropout,Conv2D,MaxPool2D,BatchNormalization\n",
    "from tensorflow.keras.callbacks import ModelCheckpoint,EarlyStopping\n",
    "from tensorflow.keras.preprocessing.image import load_img, img_to_array, ImageDataGenerator\n",
    "from tensorflow.keras.applications.vgg16 import preprocess_input\n",
    "from tensorflow.keras import regularizers"
   ]
  },
  {
   "cell_type": "code",
   "execution_count": 2,
   "id": "a7642ee3",
   "metadata": {},
   "outputs": [
    {
     "data": {
      "text/plain": [
       "['.DS_Store', 'Male', 'Female']"
      ]
     },
     "execution_count": 2,
     "metadata": {},
     "output_type": "execute_result"
    }
   ],
   "source": [
    "traindir = \"./dataset_final/Train_Copy\"\n",
    "validdir = \"./dataset_final/Validation\"\n",
    "os.listdir(traindir)"
   ]
  },
  {
   "cell_type": "code",
   "execution_count": 3,
   "id": "d11629ea",
   "metadata": {},
   "outputs": [],
   "source": [
    "# def show_random_images(dir):\n",
    "#     plt.figure(figsize=(12,7))\n",
    "#     for i in range(10):\n",
    "#         plt.subplot(2,5,i+1)\n",
    "#         img = random.choice(os.listdir(dir))\n",
    "#         img = load_img(os.path.join(dir,img))\n",
    "#         plt.subplots_adjust(hspace=0.2)\n",
    "#         x =dir.split(\"/\")[-1]\n",
    "#         if x == \"male\":\n",
    "#             plt.suptitle(\"Male Images\",fontsize=15)\n",
    "#         else:\n",
    "#             plt.suptitle(\"Female Images\",fontsize=15)\n",
    "#         plt.imshow(img)\n",
    "#     plt.tight_layout()"
   ]
  },
  {
   "cell_type": "code",
   "execution_count": 4,
   "id": "98d850ca",
   "metadata": {
    "scrolled": false
   },
   "outputs": [],
   "source": [
    "# show_random_images(traindir+\"/male\")"
   ]
  },
  {
   "cell_type": "code",
   "execution_count": 5,
   "id": "9177da9b",
   "metadata": {},
   "outputs": [],
   "source": [
    "# show_random_images(traindir+\"/female\")"
   ]
  },
  {
   "cell_type": "code",
   "execution_count": 6,
   "id": "24b37acc",
   "metadata": {},
   "outputs": [],
   "source": [
    "def show_image(dir):\n",
    "    plt.figure(figsize=(12,7))\n",
    "    img = load_img(os.path.join(dir))\n",
    "    plt.imshow(img)"
   ]
  },
  {
   "cell_type": "code",
   "execution_count": 7,
   "id": "43c3b676",
   "metadata": {
    "scrolled": true
   },
   "outputs": [
    {
     "name": "stdout",
     "output_type": "stream",
     "text": [
      "Found 128000 images belonging to 2 classes.\n",
      "Found 32000 images belonging to 2 classes.\n"
     ]
    }
   ],
   "source": [
    "height = 120\n",
    "width = 120\n",
    "train_datagen =  ImageDataGenerator(rescale = 1/255.0,rotation_range=45,height_shift_range=0.2,shear_range=0.2,\n",
    "                              zoom_range=0.2,validation_split=0.2,horizontal_flip=True)\n",
    "\n",
    "train_data = train_datagen.flow_from_directory(directory = traindir,target_size=(height,width),\n",
    "                                               class_mode = \"categorical\",batch_size=32,subset=\"training\")\n",
    "\n",
    "val_datagen = ImageDataGenerator(rescale = 1/255.0)\n",
    "\n",
    "val_data = train_datagen.flow_from_directory(directory = traindir,target_size=(height,width),\n",
    "                                               class_mode = \"categorical\",batch_size=32,subset=\"validation\")"
   ]
  },
  {
   "cell_type": "code",
   "execution_count": 8,
   "id": "63b480e6",
   "metadata": {},
   "outputs": [],
   "source": [
    "model = Sequential()\n",
    "model.add(Conv2D(8, (3, 3), activation='relu', input_shape=(height,width,3)))\n",
    "model.add(MaxPool2D((2, 2)))\n",
    "model.add(Conv2D(16, (3, 3), activation='relu'))\n",
    "model.add(Conv2D(16, (3, 3), activation='relu'))\n",
    "model.add(MaxPool2D((2, 2)))\n",
    "model.add(Conv2D(32, (3, 3), activation='relu'))\n",
    "model.add(Conv2D(32, (3, 3), activation='relu'))\n",
    "model.add(Conv2D(32, (3, 3), activation='relu'))\n",
    "model.add(MaxPool2D((2, 2)))\n",
    "model.add(Conv2D(64, (3, 3), activation='relu'))\n",
    "model.add(Conv2D(64, (3, 3), activation='relu'))\n",
    "model.add(MaxPool2D((2, 2)))\n",
    "model.add(Flatten())\n",
    "model.add(Dense(64,activation=\"relu\"))\n",
    "model.add(Dense(2,activation = \"sigmoid\"))"
   ]
  },
  {
   "cell_type": "code",
   "execution_count": 9,
   "id": "06987209",
   "metadata": {},
   "outputs": [
    {
     "name": "stdout",
     "output_type": "stream",
     "text": [
      "Model: \"sequential\"\n",
      "_________________________________________________________________\n",
      "Layer (type)                 Output Shape              Param #   \n",
      "=================================================================\n",
      "conv2d (Conv2D)              (None, 118, 118, 8)       224       \n",
      "_________________________________________________________________\n",
      "max_pooling2d (MaxPooling2D) (None, 59, 59, 8)         0         \n",
      "_________________________________________________________________\n",
      "conv2d_1 (Conv2D)            (None, 57, 57, 16)        1168      \n",
      "_________________________________________________________________\n",
      "conv2d_2 (Conv2D)            (None, 55, 55, 16)        2320      \n",
      "_________________________________________________________________\n",
      "max_pooling2d_1 (MaxPooling2 (None, 27, 27, 16)        0         \n",
      "_________________________________________________________________\n",
      "conv2d_3 (Conv2D)            (None, 25, 25, 32)        4640      \n",
      "_________________________________________________________________\n",
      "conv2d_4 (Conv2D)            (None, 23, 23, 32)        9248      \n",
      "_________________________________________________________________\n",
      "conv2d_5 (Conv2D)            (None, 21, 21, 32)        9248      \n",
      "_________________________________________________________________\n",
      "max_pooling2d_2 (MaxPooling2 (None, 10, 10, 32)        0         \n",
      "_________________________________________________________________\n",
      "conv2d_6 (Conv2D)            (None, 8, 8, 64)          18496     \n",
      "_________________________________________________________________\n",
      "conv2d_7 (Conv2D)            (None, 6, 6, 64)          36928     \n",
      "_________________________________________________________________\n",
      "max_pooling2d_3 (MaxPooling2 (None, 3, 3, 64)          0         \n",
      "_________________________________________________________________\n",
      "flatten (Flatten)            (None, 576)               0         \n",
      "_________________________________________________________________\n",
      "dense (Dense)                (None, 64)                36928     \n",
      "_________________________________________________________________\n",
      "dense_1 (Dense)              (None, 2)                 130       \n",
      "=================================================================\n",
      "Total params: 119,330\n",
      "Trainable params: 119,330\n",
      "Non-trainable params: 0\n",
      "_________________________________________________________________\n"
     ]
    }
   ],
   "source": [
    "model.compile(optimizer=Adam(lr=0.001),loss = \"categorical_crossentropy\",metrics =[\"accuracy\"])\n",
    "model.summary()"
   ]
  },
  {
   "cell_type": "code",
   "execution_count": 10,
   "id": "fa5d4b88",
   "metadata": {},
   "outputs": [],
   "source": [
    "# checkpoint = ModelCheckpoint(\"Gender.h5\",monitor = \"val_accuracy\",save_best_only = True,verbose=1)\n",
    "# earlystop = EarlyStopping(monitor='val_acc',patience=5,verbose=1)"
   ]
  },
  {
   "cell_type": "code",
   "execution_count": 11,
   "id": "b262617a",
   "metadata": {},
   "outputs": [
    {
     "data": {
      "text/plain": [
       "125"
      ]
     },
     "execution_count": 11,
     "metadata": {},
     "output_type": "execute_result"
    }
   ],
   "source": [
    "# train_data.samples\n",
    "batch_size = 32\n",
    "len(train_data)// batch_size"
   ]
  },
  {
   "cell_type": "code",
   "execution_count": 12,
   "id": "a8bcd362",
   "metadata": {},
   "outputs": [
    {
     "name": "stderr",
     "output_type": "stream",
     "text": [
      "/Library/Frameworks/Python.framework/Versions/3.7/lib/python3.7/tensorflow/python/keras/engine/training.py:1844: UserWarning: `Model.fit_generator` is deprecated and will be removed in a future version. Please use `Model.fit`, which supports generators.\n",
      "  warnings.warn('`Model.fit_generator` is deprecated and '\n"
     ]
    },
    {
     "name": "stdout",
     "output_type": "stream",
     "text": [
      "Epoch 1/30\n",
      "125/125 [==============================] - 38s 301ms/step - loss: 0.6773 - accuracy: 0.5845 - val_loss: 0.6557 - val_accuracy: 0.6230\n",
      "Epoch 2/30\n",
      "125/125 [==============================] - 35s 282ms/step - loss: 0.6609 - accuracy: 0.6033 - val_loss: 0.6384 - val_accuracy: 0.6492\n",
      "Epoch 3/30\n",
      "125/125 [==============================] - 34s 275ms/step - loss: 0.6378 - accuracy: 0.6367 - val_loss: 0.6292 - val_accuracy: 0.6431\n",
      "Epoch 4/30\n",
      "125/125 [==============================] - 35s 280ms/step - loss: 0.6173 - accuracy: 0.6527 - val_loss: 0.5281 - val_accuracy: 0.7409\n",
      "Epoch 5/30\n",
      "125/125 [==============================] - 35s 283ms/step - loss: 0.5443 - accuracy: 0.7296 - val_loss: 0.5543 - val_accuracy: 0.7188\n",
      "Epoch 6/30\n",
      "125/125 [==============================] - 35s 279ms/step - loss: 0.5182 - accuracy: 0.7405 - val_loss: 0.4736 - val_accuracy: 0.7651\n",
      "Epoch 7/30\n",
      "125/125 [==============================] - 36s 284ms/step - loss: 0.4600 - accuracy: 0.7870 - val_loss: 0.4977 - val_accuracy: 0.7440\n",
      "Epoch 8/30\n",
      "125/125 [==============================] - 35s 282ms/step - loss: 0.4705 - accuracy: 0.7709 - val_loss: 0.4516 - val_accuracy: 0.7893\n",
      "Epoch 9/30\n",
      "125/125 [==============================] - 35s 280ms/step - loss: 0.4207 - accuracy: 0.8060 - val_loss: 0.3584 - val_accuracy: 0.8427\n",
      "Epoch 10/30\n",
      "125/125 [==============================] - 35s 277ms/step - loss: 0.3814 - accuracy: 0.8292 - val_loss: 0.3579 - val_accuracy: 0.8397\n",
      "Epoch 11/30\n",
      "125/125 [==============================] - 35s 283ms/step - loss: 0.3946 - accuracy: 0.8093 - val_loss: 0.3907 - val_accuracy: 0.8145\n",
      "Epoch 12/30\n",
      "125/125 [==============================] - 35s 282ms/step - loss: 0.3533 - accuracy: 0.8416 - val_loss: 0.3430 - val_accuracy: 0.8508\n",
      "Epoch 13/30\n",
      "125/125 [==============================] - 35s 280ms/step - loss: 0.3416 - accuracy: 0.8507 - val_loss: 0.4093 - val_accuracy: 0.8286\n",
      "Epoch 14/30\n",
      "125/125 [==============================] - 35s 278ms/step - loss: 0.3509 - accuracy: 0.8497 - val_loss: 0.3125 - val_accuracy: 0.8639\n",
      "Epoch 15/30\n",
      "125/125 [==============================] - 35s 280ms/step - loss: 0.3084 - accuracy: 0.8729 - val_loss: 0.3406 - val_accuracy: 0.8528\n",
      "Epoch 16/30\n",
      "125/125 [==============================] - 35s 279ms/step - loss: 0.3213 - accuracy: 0.8545 - val_loss: 0.3069 - val_accuracy: 0.8760\n",
      "Epoch 17/30\n",
      "125/125 [==============================] - 34s 274ms/step - loss: 0.3095 - accuracy: 0.8606 - val_loss: 0.3009 - val_accuracy: 0.8679\n",
      "Epoch 18/30\n",
      "125/125 [==============================] - 35s 277ms/step - loss: 0.2721 - accuracy: 0.8902 - val_loss: 0.2748 - val_accuracy: 0.8911\n",
      "Epoch 19/30\n",
      "125/125 [==============================] - 34s 273ms/step - loss: 0.2779 - accuracy: 0.8845 - val_loss: 0.2683 - val_accuracy: 0.8831\n",
      "Epoch 20/30\n",
      "125/125 [==============================] - 35s 276ms/step - loss: 0.2708 - accuracy: 0.8848 - val_loss: 0.2643 - val_accuracy: 0.8841\n",
      "Epoch 21/30\n",
      "125/125 [==============================] - 34s 273ms/step - loss: 0.2763 - accuracy: 0.8793 - val_loss: 0.2822 - val_accuracy: 0.8750\n",
      "Epoch 22/30\n",
      "125/125 [==============================] - 35s 276ms/step - loss: 0.2699 - accuracy: 0.8880 - val_loss: 0.3245 - val_accuracy: 0.8528\n",
      "Epoch 23/30\n",
      "125/125 [==============================] - 34s 275ms/step - loss: 0.2868 - accuracy: 0.8755 - val_loss: 0.2694 - val_accuracy: 0.8740\n",
      "Epoch 24/30\n",
      "125/125 [==============================] - 34s 274ms/step - loss: 0.2616 - accuracy: 0.8967 - val_loss: 0.2737 - val_accuracy: 0.8760\n",
      "Epoch 25/30\n",
      "125/125 [==============================] - 35s 276ms/step - loss: 0.2650 - accuracy: 0.8801 - val_loss: 0.2553 - val_accuracy: 0.8972\n",
      "Epoch 26/30\n",
      "125/125 [==============================] - 34s 275ms/step - loss: 0.2911 - accuracy: 0.8724 - val_loss: 0.2893 - val_accuracy: 0.8810\n",
      "Epoch 27/30\n",
      "125/125 [==============================] - 34s 274ms/step - loss: 0.2576 - accuracy: 0.8847 - val_loss: 0.2645 - val_accuracy: 0.8831\n",
      "Epoch 28/30\n",
      "125/125 [==============================] - 35s 278ms/step - loss: 0.2641 - accuracy: 0.8891 - val_loss: 0.2320 - val_accuracy: 0.9062\n",
      "Epoch 29/30\n",
      "125/125 [==============================] - 34s 275ms/step - loss: 0.2544 - accuracy: 0.8985 - val_loss: 0.2587 - val_accuracy: 0.8931\n",
      "Epoch 30/30\n",
      "125/125 [==============================] - 34s 275ms/step - loss: 0.2742 - accuracy: 0.8799 - val_loss: 0.2673 - val_accuracy: 0.8861\n"
     ]
    }
   ],
   "source": [
    "history = model.fit_generator(train_data,\n",
    "                              steps_per_epoch = len(train_data)// batch_size,\n",
    "                              epochs=30,\n",
    "                              validation_data = val_data,\n",
    "                              validation_steps = len(val_data)//batch_size,\n",
    "#                               callbacks = [checkpoint,earlystop],\n",
    "                              verbose=1)"
   ]
  },
  {
   "cell_type": "code",
   "execution_count": 13,
   "id": "53845075",
   "metadata": {},
   "outputs": [
    {
     "name": "stdout",
     "output_type": "stream",
     "text": [
      "0 conv2d (None, 118, 118, 8)\n",
      "1 max_pooling2d (None, 59, 59, 8)\n",
      "2 conv2d_1 (None, 57, 57, 16)\n",
      "3 conv2d_2 (None, 55, 55, 16)\n",
      "4 max_pooling2d_1 (None, 27, 27, 16)\n",
      "5 conv2d_3 (None, 25, 25, 32)\n",
      "6 conv2d_4 (None, 23, 23, 32)\n",
      "7 conv2d_5 (None, 21, 21, 32)\n",
      "8 max_pooling2d_2 (None, 10, 10, 32)\n",
      "9 conv2d_6 (None, 8, 8, 64)\n",
      "10 conv2d_7 (None, 6, 6, 64)\n",
      "11 max_pooling2d_3 (None, 3, 3, 64)\n",
      "12 flatten (None, 576)\n",
      "13 dense (None, 64)\n",
      "14 dense_1 (None, 2)\n"
     ]
    }
   ],
   "source": [
    "for i in range(len(model.layers)):\n",
    "    layer = model.layers[i]\n",
    "    \n",
    "    print(i, layer.name, layer.output.shape)"
   ]
  },
  {
   "cell_type": "code",
   "execution_count": 14,
   "id": "435d4a73",
   "metadata": {},
   "outputs": [],
   "source": [
    "from tensorflow.keras import models\n",
    "\n",
    "layer_outputs = [layer.output for layer in model.layers[:12]] \n",
    "# Extracts the outputs of the top 12 layers\n",
    "activation_model = models.Model(inputs=model.input, outputs=layer_outputs) # Creates a model that will return these outputs, given the model input"
   ]
  },
  {
   "cell_type": "code",
   "execution_count": 15,
   "id": "b5da1a7b",
   "metadata": {},
   "outputs": [],
   "source": [
    "# This func will compute layerwise average activations and the maximum of these means\n",
    "def compute_avg_activation(activations,normalize=False):\n",
    "    nb_layers = len(activations)\n",
    "    layers_means = []\n",
    "    lambdas = []\n",
    "    for l in range(nb_layers):\n",
    "        layer_output = activations[l][0]\n",
    "        layer_mean_of_activs = [] # Stores average activations per layer\n",
    "        for i in range (layer_output.shape[2]): # loop over each filter (3rd dimention) \n",
    "            filter_mean_activ = layer_output[:,:,i].mean() # Get the mean (A hat, from the paper)\n",
    "            layer_mean_of_activs.append(filter_mean_activ)\n",
    "        layer_max_activ = max(layer_mean_of_activs) # Get max (This is lambda of the layer)\n",
    "        lambdas.append(layer_max_activ)\n",
    "        if(normalize):\n",
    "            layer_mean_of_activs = [x/layer_max_activ for x in layer_mean_of_activs] # Normalize\n",
    "        layers_means.append(layer_mean_of_activs) # This is lambda prime of layer\n",
    "    return layers_means, lambdas"
   ]
  },
  {
   "cell_type": "code",
   "execution_count": 16,
   "id": "b261875d",
   "metadata": {},
   "outputs": [],
   "source": [
    "from tqdm import tqdm"
   ]
  },
  {
   "cell_type": "code",
   "execution_count": 17,
   "id": "0272631a",
   "metadata": {},
   "outputs": [],
   "source": [
    "# Dataset should be for one target ethnicity \n",
    "def compute_lambdas(test_samples):\n",
    "    lambdas = []\n",
    "    for i in tqdm(range(len(test_samples))):\n",
    "        image = test_samples[i]\n",
    "        image = np.reshape(image,[1,120,120,3])\n",
    "        all_outputs = activation_model.predict(image)\n",
    "        means,layers_lambdas = compute_avg_activation(all_outputs,True)\n",
    "        lambdas.append(layers_lambdas)\n",
    "    lambdas = np.array(lambdas)\n",
    "    lambdas_max = np.max(lambdas,0) # store the max per layer\n",
    "    lambdas_min = np.min(lambdas,0) # store the min per layer\n",
    "    return lambdas_max,lambdas_min"
   ]
  },
  {
   "cell_type": "code",
   "execution_count": 18,
   "id": "ff572093",
   "metadata": {},
   "outputs": [
    {
     "name": "stdout",
     "output_type": "stream",
     "text": [
      "Found 32000 images belonging to 2 classes.\n"
     ]
    }
   ],
   "source": [
    "val_data_gray = train_datagen.flow_from_directory(directory = \"./dataset_final/Train\",target_size=(height,width),\n",
    "                                               color_mode='grayscale',\n",
    "                                               class_mode = \"categorical\",batch_size=32,subset=\"validation\")\n"
   ]
  },
  {
   "cell_type": "code",
   "execution_count": 19,
   "id": "9349d795",
   "metadata": {},
   "outputs": [],
   "source": [
    "def color_grayscale_arr(arr, color='white'):\n",
    "    \"\"\"Converts grayscale image to either red or green\"\"\"\n",
    "    assert arr.ndim == 3\n",
    "    dtype = arr.dtype\n",
    "    h, w,_ = arr.shape\n",
    "    arr = np.reshape(arr, [h, w, 1])\n",
    "    if (color=='red'):\n",
    "        arr = np.concatenate([arr,\n",
    "                          np.zeros((h, w, 2), dtype=dtype)], axis=2)\n",
    "    elif (color=='green'):\n",
    "        arr = np.concatenate([np.zeros((h, w, 1), dtype=dtype),\n",
    "                          arr,\n",
    "                          np.zeros((h, w, 1), dtype=dtype)], axis=2)\n",
    "    elif (color=='blue'):\n",
    "        arr = np.concatenate([np.zeros((h, w, 1), dtype=dtype),\n",
    "                          np.zeros((h, w, 1), dtype=dtype), \n",
    "                         arr], axis=2)\n",
    "    elif (color=='white'):\n",
    "        arr = np.concatenate([arr,\n",
    "                          arr, \n",
    "                         arr], axis=2)\n",
    "        \n",
    "    return arr"
   ]
  },
  {
   "cell_type": "code",
   "execution_count": 81,
   "id": "e194cd47",
   "metadata": {},
   "outputs": [],
   "source": [
    "def normalize_im(x):\n",
    "    \"\"\"\n",
    "    Normalize a list of sample image data in the range of 0 to 1\n",
    "    : x: List of image data.  The image shape is (32, 32, 3)\n",
    "    : return: Numpy array of normalized data\n",
    "    \"\"\"\n",
    "    return np.array((x - np.min(x)) / (np.max(x) - np.min(x)))"
   ]
  },
  {
   "cell_type": "code",
   "execution_count": 117,
   "id": "22b86b10",
   "metadata": {},
   "outputs": [],
   "source": [
    "threshold_pictures = 300"
   ]
  },
  {
   "cell_type": "code",
   "execution_count": 118,
   "id": "cead724e",
   "metadata": {},
   "outputs": [],
   "source": [
    "gray_samples = []\n",
    "count = 0\n",
    "for gray_sample in val_data_gray:\n",
    "    my_image = gray_sample[0][0]\n",
    "    my_image = color_grayscale_arr(my_image,'white')\n",
    "    my_image = my_image.reshape((1, my_image.shape[0], my_image.shape[1], my_image.shape[2]))\n",
    "    my_image = preprocess_input(my_image)\n",
    "    my_image = normalize_im(my_image)\n",
    "    gray_samples.append(my_image)\n",
    "    count = count + 1\n",
    "    if(count == threshold_pictures):\n",
    "        break"
   ]
  },
  {
   "cell_type": "code",
   "execution_count": 119,
   "id": "8f481abc",
   "metadata": {},
   "outputs": [],
   "source": [
    "green_samples = []\n",
    "count = 0\n",
    "for gray_sample in val_data_gray:\n",
    "    my_image = gray_sample[0][0]\n",
    "    my_image = color_grayscale_arr(my_image,'green')\n",
    "    my_image = my_image.reshape((1, my_image.shape[0], my_image.shape[1], my_image.shape[2]))\n",
    "    my_image = preprocess_input(my_image)\n",
    "    my_image = normalize_im(my_image)\n",
    "    green_samples.append(my_image)\n",
    "    count = count + 1\n",
    "    if(count == threshold_pictures):\n",
    "        break"
   ]
  },
  {
   "cell_type": "code",
   "execution_count": 120,
   "id": "abb8b479",
   "metadata": {},
   "outputs": [],
   "source": [
    "blue_samples = []\n",
    "count = 0\n",
    "for gray_sample in val_data_gray:\n",
    "    my_image = gray_sample[0][0]\n",
    "    my_image = color_grayscale_arr(my_image,'blue')\n",
    "    my_image = my_image.reshape((1, my_image.shape[0], my_image.shape[1], my_image.shape[2]))\n",
    "    my_image = preprocess_input(my_image)\n",
    "    my_image = normalize_im(my_image)\n",
    "    blue_samples.append(my_image)\n",
    "    count = count + 1\n",
    "    if(count == threshold_pictures):\n",
    "        break"
   ]
  },
  {
   "cell_type": "code",
   "execution_count": 121,
   "id": "8886a5ba",
   "metadata": {},
   "outputs": [],
   "source": [
    "red_samples = []\n",
    "count = 0\n",
    "for gray_sample in val_data_gray:\n",
    "    my_image = gray_sample[0][0]\n",
    "    my_image = color_grayscale_arr(my_image,'red')\n",
    "    my_image = my_image.reshape((1, my_image.shape[0], my_image.shape[1], my_image.shape[2]))\n",
    "    my_image = preprocess_input(my_image)\n",
    "    my_image = normalize_im(my_image)\n",
    "    red_samples.append(my_image)\n",
    "    count = count + 1\n",
    "    if(count == threshold_pictures):\n",
    "        break"
   ]
  },
  {
   "cell_type": "code",
   "execution_count": 122,
   "id": "8f3790c6",
   "metadata": {},
   "outputs": [],
   "source": [
    "colored_samples = []\n",
    "count = 0\n",
    "for sample in val_data:\n",
    "    my_image = sample[0][0]\n",
    "    my_image = my_image.reshape((1, my_image.shape[0], my_image.shape[1], my_image.shape[2]))\n",
    "    my_image = preprocess_input(my_image)\n",
    "    my_image = normalize_im(my_image)\n",
    "    colored_samples.append(my_image)\n",
    "    count = count + 1\n",
    "    if(count == threshold_pictures):\n",
    "        break"
   ]
  },
  {
   "cell_type": "code",
   "execution_count": 123,
   "id": "321a959e",
   "metadata": {},
   "outputs": [
    {
     "name": "stderr",
     "output_type": "stream",
     "text": [
      "100%|██████████| 300/300 [00:13<00:00, 22.51it/s]\n"
     ]
    }
   ],
   "source": [
    "lambdas_max_gray_samples, lambdas_min_gray_samples = compute_lambdas(gray_samples)"
   ]
  },
  {
   "cell_type": "code",
   "execution_count": 124,
   "id": "04a7100e",
   "metadata": {},
   "outputs": [
    {
     "name": "stderr",
     "output_type": "stream",
     "text": [
      "100%|██████████| 300/300 [00:13<00:00, 22.09it/s]\n"
     ]
    }
   ],
   "source": [
    "lambdas_max_colored_samples, lambdas_min_colored_samples = compute_lambdas(colored_samples)"
   ]
  },
  {
   "cell_type": "code",
   "execution_count": 125,
   "id": "c968c844",
   "metadata": {},
   "outputs": [
    {
     "name": "stderr",
     "output_type": "stream",
     "text": [
      "100%|██████████| 300/300 [00:13<00:00, 22.02it/s]\n"
     ]
    }
   ],
   "source": [
    "lambdas_max_red_samples, lambdas_min_red_samples = compute_lambdas(red_samples)"
   ]
  },
  {
   "cell_type": "code",
   "execution_count": 126,
   "id": "2d93c1cc",
   "metadata": {},
   "outputs": [
    {
     "name": "stderr",
     "output_type": "stream",
     "text": [
      "100%|██████████| 300/300 [00:13<00:00, 21.83it/s]\n"
     ]
    }
   ],
   "source": [
    "lambdas_max_blue_samples, lambdas_min_blue_samples = compute_lambdas(blue_samples)"
   ]
  },
  {
   "cell_type": "code",
   "execution_count": 127,
   "id": "bf1952e2",
   "metadata": {},
   "outputs": [
    {
     "name": "stderr",
     "output_type": "stream",
     "text": [
      "100%|██████████| 300/300 [00:13<00:00, 22.45it/s]\n"
     ]
    }
   ],
   "source": [
    "lambdas_max_green_samples, lambdas_min_green_samples = compute_lambdas(green_samples)"
   ]
  },
  {
   "cell_type": "code",
   "execution_count": 128,
   "id": "b25ce007",
   "metadata": {},
   "outputs": [],
   "source": [
    "layers = [x for x in range(12)]"
   ]
  },
  {
   "cell_type": "code",
   "execution_count": 142,
   "id": "20cb2b5a",
   "metadata": {},
   "outputs": [],
   "source": [
    "from numpy import inf\n",
    "\n",
    "vals_red = lambdas_min_red_samples/lambdas_max_red_samples\n",
    "vals_red[vals_red==inf] = 1.0\n",
    "\n",
    "vals_colored = lambdas_min_colored_samples/lambdas_max_colored_samples\n",
    "vals_colored[vals_colored==inf] = 1.0\n",
    "\n",
    "vals_gray = lambdas_min_gray_samples/lambdas_max_gray_samples\n",
    "vals_gray[vals_gray==inf] = 1.0\n",
    "\n",
    "vals_green = lambdas_min_green_samples/lambdas_max_green_samples\n",
    "vals_green[vals_green==inf] = 1.0\n",
    "\n",
    "vals_blue = lambdas_min_blue_samples/lambdas_max_blue_samples\n",
    "vals_blue[vals_blue==inf] = 1.0"
   ]
  },
  {
   "cell_type": "code",
   "execution_count": 143,
   "id": "24bf892e",
   "metadata": {},
   "outputs": [],
   "source": [
    "import numpy as np\n",
    "from sklearn.preprocessing import normalize\n",
    "\n",
    "def normal(arr):    \n",
    "    x = arr\n",
    "    norm1 = x / np.linalg.norm(x)\n",
    "    norm2 = normalize(x[:,np.newaxis], axis=0).ravel()\n",
    "    return norm2\n"
   ]
  },
  {
   "cell_type": "code",
   "execution_count": 144,
   "id": "9e6d304b",
   "metadata": {},
   "outputs": [
    {
     "data": {
      "image/png": "[encoded data removed]",
      "text/plain": [
       "<Figure size 640x480 with 1 Axes>"
      ]
     },
     "metadata": {
      "needs_background": "light"
     },
     "output_type": "display_data"
    }
   ],
   "source": [
    "from matplotlib.pyplot import figure\n",
    "\n",
    "figure(figsize=(8, 6), dpi=80)\n",
    "\n",
    "plt.plot(layers, normal(vals_colored),'orange')\n",
    "\n",
    "plt.plot(layers, normal(vals_red),'red')\n",
    "plt.plot(layers, normal(vals_green),'green')\n",
    "plt.plot(layers, normal(vals_blue),'blue')\n",
    "\n",
    "plt.legend(['Colored',\"Red\",\"Green\",\"Blue\"])\n",
    "plt.title('Activations per Category')\n",
    "plt.xlabel('Layer')\n",
    "plt.ylabel('Activation Norm')\n",
    "plt.show()"
   ]
  },
  {
   "cell_type": "code",
   "execution_count": 36,
   "id": "56ecd179",
   "metadata": {},
   "outputs": [],
   "source": [
    "# normal(vals_gray)"
   ]
  },
  {
   "cell_type": "code",
   "execution_count": null,
   "id": "940b1a08",
   "metadata": {},
   "outputs": [],
   "source": []
  }
 ],
 "metadata": {
  "kernelspec": {
   "display_name": "Python 3",
   "language": "python",
   "name": "python3"
  },
  "language_info": {
   "codemirror_mode": {
    "name": "ipython",
    "version": 3
   },
   "file_extension": ".py",
   "mimetype": "text/x-python",
   "name": "python",
   "nbconvert_exporter": "python",
   "pygments_lexer": "ipython3",
   "version": "3.7.1"
  }
 },
 "nbformat": 4,
 "nbformat_minor": 5
}
