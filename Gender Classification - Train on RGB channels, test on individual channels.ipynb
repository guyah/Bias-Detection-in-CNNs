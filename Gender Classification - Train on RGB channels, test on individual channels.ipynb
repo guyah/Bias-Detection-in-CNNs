{
 "cells": [
  {
   "cell_type": "code",
   "execution_count": 324,
   "id": "89d9d1aa",
   "metadata": {},
   "outputs": [],
   "source": [
    "import numpy as np\n",
    "import pandas as pd\n",
    "import matplotlib.pyplot as plt\n",
    "import seaborn as sns\n",
    "import cv2\n",
    "import random\n",
    "import os\n",
    "from tensorflow.keras.preprocessing.image import ImageDataGenerator,load_img\n",
    "from tensorflow.keras.applications.vgg16 import VGG16\n",
    "from tensorflow.keras.applications.mobilenet import MobileNet\n",
    "from tensorflow.keras.models import Sequential\n",
    "from tensorflow.keras.optimizers import Adam\n",
    "from tensorflow.keras.layers import Flatten,Dense,Dropout,Conv2D,MaxPool2D,BatchNormalization\n",
    "from tensorflow.keras.callbacks import ModelCheckpoint,EarlyStopping\n",
    "from tensorflow.keras.preprocessing.image import load_img, img_to_array, ImageDataGenerator\n",
    "from tensorflow.keras.applications.vgg16 import preprocess_input\n",
    "from tensorflow.keras import regularizers"
   ]
  },
  {
   "cell_type": "code",
   "execution_count": 325,
   "id": "a7642ee3",
   "metadata": {},
   "outputs": [
    {
     "data": {
      "text/plain": [
       "['Male', 'Female']"
      ]
     },
     "execution_count": 325,
     "metadata": {},
     "output_type": "execute_result"
    }
   ],
   "source": [
    "traindir = \"./dataset_final/Train\"\n",
    "validdir = \"./dataset_final/Validation\"\n",
    "os.listdir(traindir)"
   ]
  },
  {
   "cell_type": "code",
   "execution_count": 326,
   "id": "d11629ea",
   "metadata": {},
   "outputs": [],
   "source": [
    "# def show_random_images(dir):\n",
    "#     plt.figure(figsize=(12,7))\n",
    "#     for i in range(10):\n",
    "#         plt.subplot(2,5,i+1)\n",
    "#         img = random.choice(os.listdir(dir))\n",
    "#         img = load_img(os.path.join(dir,img))\n",
    "#         plt.subplots_adjust(hspace=0.2)\n",
    "#         x =dir.split(\"/\")[-1]\n",
    "#         if x == \"male\":\n",
    "#             plt.suptitle(\"Male Images\",fontsize=15)\n",
    "#         else:\n",
    "#             plt.suptitle(\"Female Images\",fontsize=15)\n",
    "#         plt.imshow(img)\n",
    "#     plt.tight_layout()"
   ]
  },
  {
   "cell_type": "code",
   "execution_count": 327,
   "id": "98d850ca",
   "metadata": {
    "scrolled": false
   },
   "outputs": [],
   "source": [
    "# show_random_images(traindir+\"/male\")"
   ]
  },
  {
   "cell_type": "code",
   "execution_count": 328,
   "id": "9177da9b",
   "metadata": {},
   "outputs": [],
   "source": [
    "# show_random_images(traindir+\"/female\")"
   ]
  },
  {
   "cell_type": "code",
   "execution_count": 329,
   "id": "24b37acc",
   "metadata": {},
   "outputs": [],
   "source": [
    "def show_image(dir):\n",
    "    plt.figure(figsize=(12,7))\n",
    "    img = load_img(os.path.join(dir))\n",
    "    plt.imshow(img)"
   ]
  },
  {
   "cell_type": "code",
   "execution_count": 330,
   "id": "43c3b676",
   "metadata": {
    "scrolled": true
   },
   "outputs": [
    {
     "name": "stdout",
     "output_type": "stream",
     "text": [
      "Found 128000 images belonging to 2 classes.\n",
      "Found 32000 images belonging to 2 classes.\n"
     ]
    }
   ],
   "source": [
    "height = 120\n",
    "width = 120\n",
    "train_datagen =  ImageDataGenerator(rescale = 1/255.0,rotation_range=45,height_shift_range=0.2,shear_range=0.2,\n",
    "                              zoom_range=0.2,validation_split=0.2,horizontal_flip=True)\n",
    "\n",
    "train_data = train_datagen.flow_from_directory(directory = traindir,target_size=(height,width),\n",
    "                                               class_mode = \"categorical\",batch_size=32,subset=\"training\")\n",
    "\n",
    "val_datagen = ImageDataGenerator(rescale = 1/255.0)\n",
    "\n",
    "val_data = train_datagen.flow_from_directory(directory = traindir,target_size=(height,width),\n",
    "                                               class_mode = \"categorical\",batch_size=32,subset=\"validation\")"
   ]
  },
  {
   "cell_type": "code",
   "execution_count": 340,
   "id": "f65e5b85",
   "metadata": {},
   "outputs": [],
   "source": [
    "model = Sequential()\n",
    "model.add(Conv2D(8, (3, 3), activation='relu', input_shape=(height,width,3)))\n",
    "model.add(MaxPool2D((2, 2)))\n",
    "model.add(Conv2D(16, (3, 3), activation='relu'))\n",
    "model.add(Conv2D(16, (3, 3), activation='relu'))\n",
    "model.add(MaxPool2D((2, 2)))\n",
    "model.add(Conv2D(32, (3, 3), activation='relu'))\n",
    "model.add(Conv2D(32, (3, 3), activation='relu'))\n",
    "model.add(Conv2D(32, (3, 3), activation='relu'))\n",
    "model.add(MaxPool2D((2, 2)))\n",
    "model.add(Conv2D(64, (3, 3), activation='relu'))\n",
    "model.add(Conv2D(64, (3, 3), activation='relu'))\n",
    "model.add(MaxPool2D((2, 2)))\n",
    "model.add(Flatten())\n",
    "model.add(Dense(64,activation=\"relu\"))\n",
    "model.add(Dense(2,activation = \"sigmoid\"))"
   ]
  },
  {
   "cell_type": "code",
   "execution_count": 1,
   "id": "1020a2fb",
   "metadata": {},
   "outputs": [
    {
     "ename": "NameError",
     "evalue": "name 'model' is not defined",
     "output_type": "error",
     "traceback": [
      "\u001b[0;31m---------------------------------------------------------------------------\u001b[0m",
      "\u001b[0;31mNameError\u001b[0m                                 Traceback (most recent call last)",
      "\u001b[0;32m<ipython-input-1-d62c1070aa9d>\u001b[0m in \u001b[0;36m<module>\u001b[0;34m\u001b[0m\n\u001b[0;32m----> 1\u001b[0;31m \u001b[0mmodel\u001b[0m\u001b[0;34m.\u001b[0m\u001b[0mcompile\u001b[0m\u001b[0;34m(\u001b[0m\u001b[0moptimizer\u001b[0m\u001b[0;34m=\u001b[0m\u001b[0mAdam\u001b[0m\u001b[0;34m(\u001b[0m\u001b[0mlr\u001b[0m\u001b[0;34m=\u001b[0m\u001b[0;36m0.001\u001b[0m\u001b[0;34m)\u001b[0m\u001b[0;34m,\u001b[0m\u001b[0mloss\u001b[0m \u001b[0;34m=\u001b[0m \u001b[0;34m\"categorical_crossentropy\"\u001b[0m\u001b[0;34m,\u001b[0m\u001b[0mmetrics\u001b[0m \u001b[0;34m=\u001b[0m\u001b[0;34m[\u001b[0m\u001b[0;34m\"accuracy\"\u001b[0m\u001b[0;34m,\u001b[0m\u001b[0;34m\"val_accuracy\"\u001b[0m\u001b[0;34m]\u001b[0m\u001b[0;34m)\u001b[0m\u001b[0;34m\u001b[0m\u001b[0;34m\u001b[0m\u001b[0m\n\u001b[0m\u001b[1;32m      2\u001b[0m \u001b[0mmodel\u001b[0m\u001b[0;34m.\u001b[0m\u001b[0msummary\u001b[0m\u001b[0;34m(\u001b[0m\u001b[0;34m)\u001b[0m\u001b[0;34m\u001b[0m\u001b[0;34m\u001b[0m\u001b[0m\n",
      "\u001b[0;31mNameError\u001b[0m: name 'model' is not defined"
     ]
    }
   ],
   "source": [
    "model.compile(optimizer=Adam(lr=0.001),loss = \"categorical_crossentropy\",metrics =[\"accuracy\"])\n",
    "model.summary()"
   ]
  },
  {
   "cell_type": "code",
   "execution_count": 342,
   "id": "fa5d4b88",
   "metadata": {},
   "outputs": [],
   "source": [
    "# checkpoint = ModelCheckpoint(\"Gender.h5\",monitor = \"val_accuracy\",save_best_only = True,verbose=1)\n",
    "# earlystop = EarlyStopping(monitor='val_acc',patience=5,verbose=1)"
   ]
  },
  {
   "cell_type": "code",
   "execution_count": 343,
   "id": "b262617a",
   "metadata": {},
   "outputs": [
    {
     "data": {
      "text/plain": [
       "125"
      ]
     },
     "execution_count": 343,
     "metadata": {},
     "output_type": "execute_result"
    }
   ],
   "source": [
    "# train_data.samples\n",
    "batch_size = 32\n",
    "len(train_data)// batch_size"
   ]
  },
  {
   "cell_type": "code",
   "execution_count": 344,
   "id": "a8bcd362",
   "metadata": {},
   "outputs": [
    {
     "name": "stderr",
     "output_type": "stream",
     "text": [
      "/Library/Frameworks/Python.framework/Versions/3.7/lib/python3.7/tensorflow/python/keras/engine/training.py:1844: UserWarning: `Model.fit_generator` is deprecated and will be removed in a future version. Please use `Model.fit`, which supports generators.\n",
      "  warnings.warn('`Model.fit_generator` is deprecated and '\n"
     ]
    },
    {
     "name": "stdout",
     "output_type": "stream",
     "text": [
      "Epoch 1/30\n",
      "125/125 [==============================] - 36s 283ms/step - loss: 0.6831 - accuracy: 0.5986 - val_loss: 0.6453 - val_accuracy: 0.6179\n",
      "Epoch 2/30\n",
      "125/125 [==============================] - 34s 271ms/step - loss: 0.6431 - accuracy: 0.6187 - val_loss: 0.6121 - val_accuracy: 0.6784\n",
      "Epoch 3/30\n",
      "125/125 [==============================] - 33s 266ms/step - loss: 0.5960 - accuracy: 0.6758 - val_loss: 0.5487 - val_accuracy: 0.7288\n",
      "Epoch 4/30\n",
      "125/125 [==============================] - 34s 269ms/step - loss: 0.5373 - accuracy: 0.7318 - val_loss: 0.5065 - val_accuracy: 0.7419\n",
      "Epoch 5/30\n",
      "125/125 [==============================] - 34s 270ms/step - loss: 0.5033 - accuracy: 0.7567 - val_loss: 0.4803 - val_accuracy: 0.7702\n",
      "Epoch 6/30\n",
      "125/125 [==============================] - 34s 270ms/step - loss: 0.4632 - accuracy: 0.7790 - val_loss: 0.4404 - val_accuracy: 0.7974\n",
      "Epoch 7/30\n",
      "125/125 [==============================] - 34s 273ms/step - loss: 0.4208 - accuracy: 0.8052 - val_loss: 0.4005 - val_accuracy: 0.8165\n",
      "Epoch 8/30\n",
      "125/125 [==============================] - 34s 272ms/step - loss: 0.4085 - accuracy: 0.8091 - val_loss: 0.4068 - val_accuracy: 0.8044\n",
      "Epoch 9/30\n",
      "125/125 [==============================] - 35s 280ms/step - loss: 0.3710 - accuracy: 0.8316 - val_loss: 0.3598 - val_accuracy: 0.8347\n",
      "Epoch 10/30\n",
      "125/125 [==============================] - 34s 274ms/step - loss: 0.3711 - accuracy: 0.8282 - val_loss: 0.3881 - val_accuracy: 0.8226\n",
      "Epoch 11/30\n",
      "125/125 [==============================] - 34s 272ms/step - loss: 0.3490 - accuracy: 0.8452 - val_loss: 0.3035 - val_accuracy: 0.8720\n",
      "Epoch 12/30\n",
      "125/125 [==============================] - 40s 319ms/step - loss: 0.3283 - accuracy: 0.8573 - val_loss: 0.3409 - val_accuracy: 0.8599\n",
      "Epoch 13/30\n",
      "125/125 [==============================] - 35s 276ms/step - loss: 0.3433 - accuracy: 0.8513 - val_loss: 0.3232 - val_accuracy: 0.8558\n",
      "Epoch 14/30\n",
      "125/125 [==============================] - 34s 274ms/step - loss: 0.3018 - accuracy: 0.8783 - val_loss: 0.2953 - val_accuracy: 0.8790\n",
      "Epoch 15/30\n",
      "125/125 [==============================] - 34s 274ms/step - loss: 0.3095 - accuracy: 0.8580 - val_loss: 0.3315 - val_accuracy: 0.8700\n",
      "Epoch 16/30\n",
      "125/125 [==============================] - 35s 279ms/step - loss: 0.2967 - accuracy: 0.8720 - val_loss: 0.2968 - val_accuracy: 0.8710\n",
      "Epoch 17/30\n",
      "125/125 [==============================] - 35s 276ms/step - loss: 0.2785 - accuracy: 0.8764 - val_loss: 0.2935 - val_accuracy: 0.8690\n",
      "Epoch 18/30\n",
      "125/125 [==============================] - 34s 273ms/step - loss: 0.2625 - accuracy: 0.8920 - val_loss: 0.2767 - val_accuracy: 0.8901\n",
      "Epoch 19/30\n",
      "125/125 [==============================] - 34s 274ms/step - loss: 0.2609 - accuracy: 0.8841 - val_loss: 0.2930 - val_accuracy: 0.8750\n",
      "Epoch 20/30\n",
      "125/125 [==============================] - 34s 275ms/step - loss: 0.2941 - accuracy: 0.8754 - val_loss: 0.2623 - val_accuracy: 0.8952\n",
      "Epoch 21/30\n",
      "125/125 [==============================] - 35s 277ms/step - loss: 0.2744 - accuracy: 0.8882 - val_loss: 0.2736 - val_accuracy: 0.8810\n",
      "Epoch 22/30\n",
      "125/125 [==============================] - 35s 277ms/step - loss: 0.2634 - accuracy: 0.8871 - val_loss: 0.2411 - val_accuracy: 0.9032\n",
      "Epoch 23/30\n",
      "125/125 [==============================] - 36s 287ms/step - loss: 0.2884 - accuracy: 0.8780 - val_loss: 0.2221 - val_accuracy: 0.9173\n",
      "Epoch 24/30\n",
      "125/125 [==============================] - 36s 289ms/step - loss: 0.2529 - accuracy: 0.9004 - val_loss: 0.2595 - val_accuracy: 0.8831\n",
      "Epoch 25/30\n",
      "125/125 [==============================] - 35s 277ms/step - loss: 0.2439 - accuracy: 0.8977 - val_loss: 0.2701 - val_accuracy: 0.8810\n",
      "Epoch 26/30\n",
      "125/125 [==============================] - 35s 276ms/step - loss: 0.2214 - accuracy: 0.9106 - val_loss: 0.2507 - val_accuracy: 0.8952\n",
      "Epoch 27/30\n",
      "125/125 [==============================] - 35s 279ms/step - loss: 0.2242 - accuracy: 0.9094 - val_loss: 0.2341 - val_accuracy: 0.8982\n",
      "Epoch 28/30\n",
      "125/125 [==============================] - 35s 279ms/step - loss: 0.2186 - accuracy: 0.9083 - val_loss: 0.2730 - val_accuracy: 0.8790\n",
      "Epoch 29/30\n",
      "125/125 [==============================] - 35s 282ms/step - loss: 0.2406 - accuracy: 0.9046 - val_loss: 0.2278 - val_accuracy: 0.9062\n",
      "Epoch 30/30\n",
      "125/125 [==============================] - 35s 276ms/step - loss: 0.2223 - accuracy: 0.9138 - val_loss: 0.2526 - val_accuracy: 0.9002\n"
     ]
    }
   ],
   "source": [
    "history = model.fit_generator(train_data,\n",
    "                              steps_per_epoch = len(train_data)// batch_size,\n",
    "                              epochs=30,\n",
    "                              validation_data = val_data,\n",
    "                              validation_steps = len(val_data)//batch_size,\n",
    "#                               callbacks = [checkpoint,earlystop],\n",
    "                              verbose=1)"
   ]
  },
  {
   "cell_type": "code",
   "execution_count": 345,
   "id": "53845075",
   "metadata": {},
   "outputs": [
    {
     "name": "stdout",
     "output_type": "stream",
     "text": [
      "0 conv2d_345 (None, 118, 118, 8)\n",
      "1 max_pooling2d_136 (None, 59, 59, 8)\n",
      "2 conv2d_346 (None, 57, 57, 16)\n",
      "3 conv2d_347 (None, 55, 55, 16)\n",
      "4 max_pooling2d_137 (None, 27, 27, 16)\n",
      "5 conv2d_348 (None, 25, 25, 32)\n",
      "6 conv2d_349 (None, 23, 23, 32)\n",
      "7 conv2d_350 (None, 21, 21, 32)\n",
      "8 max_pooling2d_138 (None, 10, 10, 32)\n",
      "9 conv2d_351 (None, 8, 8, 64)\n",
      "10 conv2d_352 (None, 6, 6, 64)\n",
      "11 max_pooling2d_139 (None, 3, 3, 64)\n",
      "12 flatten_42 (None, 576)\n",
      "13 dense_84 (None, 64)\n",
      "14 dense_85 (None, 2)\n"
     ]
    }
   ],
   "source": [
    "for i in range(len(model.layers)):\n",
    "    layer = model.layers[i]\n",
    "    \n",
    "    print(i, layer.name, layer.output.shape)"
   ]
  },
  {
   "cell_type": "code",
   "execution_count": 346,
   "id": "435d4a73",
   "metadata": {},
   "outputs": [],
   "source": [
    "from tensorflow.keras import models\n",
    "\n",
    "layer_outputs = [layer.output for layer in model.layers[:12]] \n",
    "# Extracts the outputs of the top 12 layers\n",
    "activation_model = models.Model(inputs=model.input, outputs=layer_outputs) # Creates a model that will return these outputs, given the model input"
   ]
  },
  {
   "cell_type": "code",
   "execution_count": 347,
   "id": "b5da1a7b",
   "metadata": {},
   "outputs": [],
   "source": [
    "# This func will compute layerwise average activations and the maximum of these means\n",
    "def compute_avg_activation(activations,normalize=False):\n",
    "    nb_layers = len(activations)\n",
    "    layers_means = []\n",
    "    lambdas = []\n",
    "    for l in range(nb_layers):\n",
    "        layer_output = activations[l][0]\n",
    "        layer_mean_of_activs = [] # Stores average activations per layer\n",
    "        for i in range (layer_output.shape[2]): # loop over each filter (3rd dimention) \n",
    "            filter_mean_activ = layer_output[:,:,i].mean() # Get the mean (A hat, from the paper)\n",
    "            layer_mean_of_activs.append(filter_mean_activ)\n",
    "        layer_max_activ = max(layer_mean_of_activs) # Get max (This is lambda of the layer)\n",
    "        lambdas.append(layer_max_activ)\n",
    "        if(normalize):\n",
    "            layer_mean_of_activs = [x/layer_max_activ for x in layer_mean_of_activs] # Normalize\n",
    "        layers_means.append(layer_mean_of_activs) # This is lambda prime of layer\n",
    "    return layers_means, lambdas"
   ]
  },
  {
   "cell_type": "code",
   "execution_count": 348,
   "id": "b261875d",
   "metadata": {},
   "outputs": [],
   "source": [
    "from tqdm import tqdm"
   ]
  },
  {
   "cell_type": "code",
   "execution_count": 349,
   "id": "0272631a",
   "metadata": {},
   "outputs": [],
   "source": [
    "# Dataset should be for one target ethnicity \n",
    "def compute_lambdas(test_samples):\n",
    "    lambdas = []\n",
    "    for i in tqdm(range(len(test_samples))):\n",
    "        image = test_samples[i]\n",
    "        image = np.reshape(image,[1,120,120,3])\n",
    "        all_outputs = activation_model.predict(image)\n",
    "        means,layers_lambdas = compute_avg_activation(all_outputs,True)\n",
    "        lambdas.append(layers_lambdas)\n",
    "    lambdas = np.array(lambdas)\n",
    "    lambdas_max = np.max(lambdas,0) # store the max per layer\n",
    "    lambdas_min = np.min(lambdas,0) # store the min per layer\n",
    "    return lambdas_max,lambdas_min"
   ]
  },
  {
   "cell_type": "code",
   "execution_count": 350,
   "id": "ff572093",
   "metadata": {},
   "outputs": [
    {
     "name": "stdout",
     "output_type": "stream",
     "text": [
      "Found 32000 images belonging to 2 classes.\n"
     ]
    }
   ],
   "source": [
    "val_data_gray = train_datagen.flow_from_directory(directory = traindir,target_size=(height,width),\n",
    "                                               color_mode='grayscale',\n",
    "                                               class_mode = \"categorical\",batch_size=32,subset=\"validation\")\n"
   ]
  },
  {
   "cell_type": "code",
   "execution_count": 351,
   "id": "9349d795",
   "metadata": {},
   "outputs": [],
   "source": [
    "def color_grayscale_arr(arr, color='white'):\n",
    "    \"\"\"Converts grayscale image to either red or green\"\"\"\n",
    "    assert arr.ndim == 3\n",
    "    dtype = arr.dtype\n",
    "    h, w,_ = arr.shape\n",
    "    arr = np.reshape(arr, [h, w, 1])\n",
    "    if (color=='red'):\n",
    "        arr = np.concatenate([arr,\n",
    "                          np.zeros((h, w, 2), dtype=dtype)], axis=2)\n",
    "    elif (color=='green'):\n",
    "        arr = np.concatenate([np.zeros((h, w, 1), dtype=dtype),\n",
    "                          arr,\n",
    "                          np.zeros((h, w, 1), dtype=dtype)], axis=2)\n",
    "    elif (color=='blue'):\n",
    "        arr = np.concatenate([np.zeros((h, w, 1), dtype=dtype),\n",
    "                          np.zeros((h, w, 1), dtype=dtype), \n",
    "                         arr], axis=2)\n",
    "    elif (color=='white'):\n",
    "        arr = np.concatenate([arr,\n",
    "                          arr, \n",
    "                         arr], axis=2)\n",
    "        \n",
    "    return arr"
   ]
  },
  {
   "cell_type": "code",
   "execution_count": 370,
   "id": "c47e8c31",
   "metadata": {},
   "outputs": [],
   "source": [
    "def normalize_im(x):\n",
    "    \"\"\"\n",
    "    Normalize a list of sample image data in the range of 0 to 1\n",
    "    : x: List of image data.  The image shape is (32, 32, 3)\n",
    "    : return: Numpy array of normalized data\n",
    "    \"\"\"\n",
    "    return np.array((x - np.min(x)) / (np.max(x) - np.min(x)))"
   ]
  },
  {
   "cell_type": "code",
   "execution_count": 371,
   "id": "22b86b10",
   "metadata": {},
   "outputs": [],
   "source": [
    "threshold_pictures = 100"
   ]
  },
  {
   "cell_type": "code",
   "execution_count": 372,
   "id": "cead724e",
   "metadata": {},
   "outputs": [],
   "source": [
    "gray_samples = []\n",
    "count = 0\n",
    "for gray_sample in val_data_gray:\n",
    "    my_image = gray_sample[0][0]\n",
    "    my_image = color_grayscale_arr(my_image,'white')\n",
    "    my_image = my_image.reshape((1, my_image.shape[0], my_image.shape[1], my_image.shape[2]))\n",
    "    my_image = preprocess_input(my_image)\n",
    "    my_image = normalize_im(my_image)\n",
    "    gray_samples.append(my_image)\n",
    "    count = count + 1\n",
    "    if(count == threshold_pictures):\n",
    "        break"
   ]
  },
  {
   "cell_type": "code",
   "execution_count": 373,
   "id": "8f481abc",
   "metadata": {},
   "outputs": [],
   "source": [
    "green_samples = []\n",
    "count = 0\n",
    "for gray_sample in val_data_gray:\n",
    "    my_image = gray_sample[0][0]\n",
    "    my_image = color_grayscale_arr(my_image,'green')\n",
    "    my_image = my_image.reshape((1, my_image.shape[0], my_image.shape[1], my_image.shape[2]))\n",
    "    my_image = preprocess_input(my_image)\n",
    "    my_image = normalize_im(my_image)\n",
    "    green_samples.append(my_image)\n",
    "    count = count + 1\n",
    "    if(count == threshold_pictures):\n",
    "        break"
   ]
  },
  {
   "cell_type": "code",
   "execution_count": 374,
   "id": "abb8b479",
   "metadata": {},
   "outputs": [],
   "source": [
    "blue_samples = []\n",
    "count = 0\n",
    "for gray_sample in val_data_gray:\n",
    "    my_image = gray_sample[0][0]\n",
    "    my_image = color_grayscale_arr(my_image,'blue')\n",
    "    my_image = my_image.reshape((1, my_image.shape[0], my_image.shape[1], my_image.shape[2]))\n",
    "    my_image = preprocess_input(my_image)\n",
    "    my_image = normalize_im(my_image)\n",
    "    blue_samples.append(my_image)\n",
    "    count = count + 1\n",
    "    if(count == threshold_pictures):\n",
    "        break"
   ]
  },
  {
   "cell_type": "code",
   "execution_count": 375,
   "id": "8886a5ba",
   "metadata": {},
   "outputs": [],
   "source": [
    "red_samples = []\n",
    "count = 0\n",
    "for gray_sample in val_data_gray:\n",
    "    my_image = gray_sample[0][0]\n",
    "    my_image = color_grayscale_arr(my_image,'red')\n",
    "    my_image = my_image.reshape((1, my_image.shape[0], my_image.shape[1], my_image.shape[2]))\n",
    "    my_image = preprocess_input(my_image)\n",
    "    my_image = normalize_im(my_image)\n",
    "    red_samples.append(my_image)\n",
    "    count = count + 1\n",
    "    if(count == threshold_pictures):\n",
    "        break"
   ]
  },
  {
   "cell_type": "code",
   "execution_count": 376,
   "id": "8f3790c6",
   "metadata": {},
   "outputs": [],
   "source": [
    "colored_samples = []\n",
    "count = 0\n",
    "for sample in val_data:\n",
    "    my_image = sample[0][0]\n",
    "    my_image = my_image.reshape((1, my_image.shape[0], my_image.shape[1], my_image.shape[2]))\n",
    "    my_image = preprocess_input(my_image)\n",
    "    my_image = normalize_im(my_image)\n",
    "    colored_samples.append(my_image)\n",
    "    count = count + 1\n",
    "    if(count == threshold_pictures):\n",
    "        break"
   ]
  },
  {
   "cell_type": "code",
   "execution_count": 377,
   "id": "321a959e",
   "metadata": {},
   "outputs": [
    {
     "name": "stderr",
     "output_type": "stream",
     "text": [
      "100%|██████████| 100/100 [00:04<00:00, 21.18it/s]\n"
     ]
    }
   ],
   "source": [
    "lambdas_max_gray_samples, lambdas_min_gray_samples = compute_lambdas(gray_samples)"
   ]
  },
  {
   "cell_type": "code",
   "execution_count": 378,
   "id": "04a7100e",
   "metadata": {},
   "outputs": [
    {
     "name": "stderr",
     "output_type": "stream",
     "text": [
      "100%|██████████| 100/100 [00:04<00:00, 22.30it/s]\n"
     ]
    }
   ],
   "source": [
    "lambdas_max_colored_samples, lambdas_min_colored_samples = compute_lambdas(colored_samples)"
   ]
  },
  {
   "cell_type": "code",
   "execution_count": 379,
   "id": "c968c844",
   "metadata": {},
   "outputs": [
    {
     "name": "stderr",
     "output_type": "stream",
     "text": [
      "100%|██████████| 100/100 [00:04<00:00, 22.52it/s]\n"
     ]
    }
   ],
   "source": [
    "lambdas_max_red_samples, lambdas_min_red_samples = compute_lambdas(red_samples)"
   ]
  },
  {
   "cell_type": "code",
   "execution_count": 380,
   "id": "2d93c1cc",
   "metadata": {},
   "outputs": [
    {
     "name": "stderr",
     "output_type": "stream",
     "text": [
      "100%|██████████| 100/100 [00:04<00:00, 22.55it/s]\n"
     ]
    }
   ],
   "source": [
    "lambdas_max_blue_samples, lambdas_min_blue_samples = compute_lambdas(blue_samples)"
   ]
  },
  {
   "cell_type": "code",
   "execution_count": 381,
   "id": "bf1952e2",
   "metadata": {},
   "outputs": [
    {
     "name": "stderr",
     "output_type": "stream",
     "text": [
      "100%|██████████| 100/100 [00:05<00:00, 18.10it/s]\n"
     ]
    }
   ],
   "source": [
    "lambdas_max_green_samples, lambdas_min_green_samples = compute_lambdas(green_samples)"
   ]
  },
  {
   "cell_type": "code",
   "execution_count": 382,
   "id": "b25ce007",
   "metadata": {},
   "outputs": [],
   "source": [
    "layers = [x for x in range(12)]"
   ]
  },
  {
   "cell_type": "code",
   "execution_count": 384,
   "id": "0eccdb12",
   "metadata": {},
   "outputs": [],
   "source": [
    "from numpy import inf\n",
    "\n",
    "vals_red = lambdas_max_red_samples/lambdas_min_red_samples\n",
    "vals_red[vals_red==inf] = 1.0\n",
    "\n",
    "vals_colored = lambdas_max_colored_samples/lambdas_min_colored_samples\n",
    "vals_colored[vals_colored==inf] = 1.0\n",
    "\n",
    "vals_gray = lambdas_max_gray_samples/lambdas_min_gray_samples\n",
    "vals_gray[vals_gray==inf] = 1.0\n",
    "\n",
    "vals_green = lambdas_max_green_samples/lambdas_min_green_samples\n",
    "vals_green[vals_green==inf] = 1.0\n",
    "\n",
    "vals_blue = lambdas_max_blue_samples/lambdas_min_blue_samples\n",
    "vals_blue[vals_blue==inf] = 1.0"
   ]
  },
  {
   "cell_type": "code",
   "execution_count": 385,
   "id": "40ec1004",
   "metadata": {},
   "outputs": [],
   "source": [
    "import numpy as np\n",
    "from sklearn.preprocessing import normalize\n",
    "\n",
    "def normal(arr):    \n",
    "    x = arr\n",
    "    norm1 = x / np.linalg.norm(x)\n",
    "    norm2 = normalize(x[:,np.newaxis], axis=0).ravel()\n",
    "    return norm2\n"
   ]
  },
  {
   "cell_type": "code",
   "execution_count": 386,
   "id": "9e6d304b",
   "metadata": {},
   "outputs": [
    {
     "data": {
      "image/png": "[encoded data removed]",
      "text/plain": [
       "<Figure size 640x480 with 1 Axes>"
      ]
     },
     "metadata": {
      "needs_background": "light"
     },
     "output_type": "display_data"
    }
   ],
   "source": [
    "from matplotlib.pyplot import figure\n",
    "\n",
    "figure(figsize=(8, 6), dpi=80)\n",
    "\n",
    "plt.plot(layers, normal(vals_colored),'orange')\n",
    "\n",
    "plt.plot(layers, normal(vals_red),'red')\n",
    "plt.plot(layers, normal(vals_green),'green')\n",
    "plt.plot(layers, normal(vals_blue),'blue')\n",
    "\n",
    "plt.legend(['Colored',\"Red\",\"Green\",\"Blue\"])\n",
    "plt.title('Activations per Category')\n",
    "plt.xlabel('Layer')\n",
    "plt.ylabel('Activation Norm')\n",
    "plt.show()"
   ]
  },
  {
   "cell_type": "code",
   "execution_count": null,
   "id": "2ac73d98",
   "metadata": {},
   "outputs": [],
   "source": []
  }
 ],
 "metadata": {
  "kernelspec": {
   "display_name": "Python 3",
   "language": "python",
   "name": "python3"
  },
  "language_info": {
   "codemirror_mode": {
    "name": "ipython",
    "version": 3
   },
   "file_extension": ".py",
   "mimetype": "text/x-python",
   "name": "python",
   "nbconvert_exporter": "python",
   "pygments_lexer": "ipython3",
   "version": "3.7.1"
  }
 },
 "nbformat": 4,
 "nbformat_minor": 5
}
