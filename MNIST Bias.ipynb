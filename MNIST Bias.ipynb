{
 "cells": [
  {
   "cell_type": "code",
   "execution_count": 1,
   "id": "d07a5ab7",
   "metadata": {},
   "outputs": [],
   "source": [
    "import tensorflow as tf\n",
    "import tensorflow_probability as tfp\n",
    "import numpy as np\n",
    "import pandas as pd\n",
    "import matplotlib.pyplot as plt\n",
    "import seaborn as sns\n",
    "import time\n",
    "from sklearn.model_selection import train_test_split"
   ]
  },
  {
   "cell_type": "code",
   "execution_count": 2,
   "id": "182f6be6",
   "metadata": {},
   "outputs": [],
   "source": [
    "def color_grayscale_arr(arr, color='white'):\n",
    "    \"\"\"Converts grayscale image to either red or green\"\"\"\n",
    "    assert arr.ndim == 2\n",
    "    dtype = arr.dtype\n",
    "    h, w = arr.shape\n",
    "    arr = np.reshape(arr, [h, w, 1])\n",
    "    if (color=='red'):\n",
    "        arr = np.concatenate([arr,\n",
    "                          np.zeros((h, w, 2), dtype=dtype)], axis=2)\n",
    "    elif (color=='green'):\n",
    "        arr = np.concatenate([np.zeros((h, w, 1), dtype=dtype),\n",
    "                          arr,\n",
    "                          np.zeros((h, w, 1), dtype=dtype)], axis=2)\n",
    "    elif (color=='blue'):\n",
    "        arr = np.concatenate([np.zeros((h, w, 1), dtype=dtype),\n",
    "                          np.zeros((h, w, 1), dtype=dtype), \n",
    "                         arr], axis=2)\n",
    "    elif (color=='white'):\n",
    "        arr = np.concatenate([arr,\n",
    "                          arr, \n",
    "                         arr], axis=2)\n",
    "        \n",
    "    return arr"
   ]
  },
  {
   "cell_type": "code",
   "execution_count": 3,
   "id": "841fa56c",
   "metadata": {},
   "outputs": [],
   "source": [
    "np.random.seed(5)\n",
    "tf.random.set_seed(5)"
   ]
  },
  {
   "cell_type": "code",
   "execution_count": 4,
   "id": "8414b894",
   "metadata": {},
   "outputs": [],
   "source": [
    "#We first load our data, and seek the distribution for its labels\n",
    "train = pd.read_csv(\"./mnist/train.csv\")\n",
    "test = pd.read_csv(\"./mnist/test.csv\")\n",
    "\n",
    "#Create our labels array\n",
    "Y_train = train[\"label\"]\n",
    "\n",
    "# Drop 'label' column\n",
    "X_train = train.drop(labels = [\"label\"],axis = 1) "
   ]
  },
  {
   "cell_type": "code",
   "execution_count": 5,
   "id": "10d154ba",
   "metadata": {},
   "outputs": [
    {
     "data": {
      "text/html": [
       "<div>\n",
       "<style scoped>\n",
       "    .dataframe tbody tr th:only-of-type {\n",
       "        vertical-align: middle;\n",
       "    }\n",
       "\n",
       "    .dataframe tbody tr th {\n",
       "        vertical-align: top;\n",
       "    }\n",
       "\n",
       "    .dataframe thead th {\n",
       "        text-align: right;\n",
       "    }\n",
       "</style>\n",
       "<table border=\"1\" class=\"dataframe\">\n",
       "  <thead>\n",
       "    <tr style=\"text-align: right;\">\n",
       "      <th></th>\n",
       "      <th>label</th>\n",
       "      <th>pixel0</th>\n",
       "      <th>pixel1</th>\n",
       "      <th>pixel2</th>\n",
       "      <th>pixel3</th>\n",
       "      <th>pixel4</th>\n",
       "      <th>pixel5</th>\n",
       "      <th>pixel6</th>\n",
       "      <th>pixel7</th>\n",
       "      <th>pixel8</th>\n",
       "      <th>...</th>\n",
       "      <th>pixel774</th>\n",
       "      <th>pixel775</th>\n",
       "      <th>pixel776</th>\n",
       "      <th>pixel777</th>\n",
       "      <th>pixel778</th>\n",
       "      <th>pixel779</th>\n",
       "      <th>pixel780</th>\n",
       "      <th>pixel781</th>\n",
       "      <th>pixel782</th>\n",
       "      <th>pixel783</th>\n",
       "    </tr>\n",
       "  </thead>\n",
       "  <tbody>\n",
       "    <tr>\n",
       "      <th>0</th>\n",
       "      <td>1</td>\n",
       "      <td>0</td>\n",
       "      <td>0</td>\n",
       "      <td>0</td>\n",
       "      <td>0</td>\n",
       "      <td>0</td>\n",
       "      <td>0</td>\n",
       "      <td>0</td>\n",
       "      <td>0</td>\n",
       "      <td>0</td>\n",
       "      <td>...</td>\n",
       "      <td>0</td>\n",
       "      <td>0</td>\n",
       "      <td>0</td>\n",
       "      <td>0</td>\n",
       "      <td>0</td>\n",
       "      <td>0</td>\n",
       "      <td>0</td>\n",
       "      <td>0</td>\n",
       "      <td>0</td>\n",
       "      <td>0</td>\n",
       "    </tr>\n",
       "    <tr>\n",
       "      <th>1</th>\n",
       "      <td>0</td>\n",
       "      <td>0</td>\n",
       "      <td>0</td>\n",
       "      <td>0</td>\n",
       "      <td>0</td>\n",
       "      <td>0</td>\n",
       "      <td>0</td>\n",
       "      <td>0</td>\n",
       "      <td>0</td>\n",
       "      <td>0</td>\n",
       "      <td>...</td>\n",
       "      <td>0</td>\n",
       "      <td>0</td>\n",
       "      <td>0</td>\n",
       "      <td>0</td>\n",
       "      <td>0</td>\n",
       "      <td>0</td>\n",
       "      <td>0</td>\n",
       "      <td>0</td>\n",
       "      <td>0</td>\n",
       "      <td>0</td>\n",
       "    </tr>\n",
       "    <tr>\n",
       "      <th>2</th>\n",
       "      <td>1</td>\n",
       "      <td>0</td>\n",
       "      <td>0</td>\n",
       "      <td>0</td>\n",
       "      <td>0</td>\n",
       "      <td>0</td>\n",
       "      <td>0</td>\n",
       "      <td>0</td>\n",
       "      <td>0</td>\n",
       "      <td>0</td>\n",
       "      <td>...</td>\n",
       "      <td>0</td>\n",
       "      <td>0</td>\n",
       "      <td>0</td>\n",
       "      <td>0</td>\n",
       "      <td>0</td>\n",
       "      <td>0</td>\n",
       "      <td>0</td>\n",
       "      <td>0</td>\n",
       "      <td>0</td>\n",
       "      <td>0</td>\n",
       "    </tr>\n",
       "    <tr>\n",
       "      <th>3</th>\n",
       "      <td>4</td>\n",
       "      <td>0</td>\n",
       "      <td>0</td>\n",
       "      <td>0</td>\n",
       "      <td>0</td>\n",
       "      <td>0</td>\n",
       "      <td>0</td>\n",
       "      <td>0</td>\n",
       "      <td>0</td>\n",
       "      <td>0</td>\n",
       "      <td>...</td>\n",
       "      <td>0</td>\n",
       "      <td>0</td>\n",
       "      <td>0</td>\n",
       "      <td>0</td>\n",
       "      <td>0</td>\n",
       "      <td>0</td>\n",
       "      <td>0</td>\n",
       "      <td>0</td>\n",
       "      <td>0</td>\n",
       "      <td>0</td>\n",
       "    </tr>\n",
       "    <tr>\n",
       "      <th>4</th>\n",
       "      <td>0</td>\n",
       "      <td>0</td>\n",
       "      <td>0</td>\n",
       "      <td>0</td>\n",
       "      <td>0</td>\n",
       "      <td>0</td>\n",
       "      <td>0</td>\n",
       "      <td>0</td>\n",
       "      <td>0</td>\n",
       "      <td>0</td>\n",
       "      <td>...</td>\n",
       "      <td>0</td>\n",
       "      <td>0</td>\n",
       "      <td>0</td>\n",
       "      <td>0</td>\n",
       "      <td>0</td>\n",
       "      <td>0</td>\n",
       "      <td>0</td>\n",
       "      <td>0</td>\n",
       "      <td>0</td>\n",
       "      <td>0</td>\n",
       "    </tr>\n",
       "    <tr>\n",
       "      <th>...</th>\n",
       "      <td>...</td>\n",
       "      <td>...</td>\n",
       "      <td>...</td>\n",
       "      <td>...</td>\n",
       "      <td>...</td>\n",
       "      <td>...</td>\n",
       "      <td>...</td>\n",
       "      <td>...</td>\n",
       "      <td>...</td>\n",
       "      <td>...</td>\n",
       "      <td>...</td>\n",
       "      <td>...</td>\n",
       "      <td>...</td>\n",
       "      <td>...</td>\n",
       "      <td>...</td>\n",
       "      <td>...</td>\n",
       "      <td>...</td>\n",
       "      <td>...</td>\n",
       "      <td>...</td>\n",
       "      <td>...</td>\n",
       "      <td>...</td>\n",
       "    </tr>\n",
       "    <tr>\n",
       "      <th>41995</th>\n",
       "      <td>0</td>\n",
       "      <td>0</td>\n",
       "      <td>0</td>\n",
       "      <td>0</td>\n",
       "      <td>0</td>\n",
       "      <td>0</td>\n",
       "      <td>0</td>\n",
       "      <td>0</td>\n",
       "      <td>0</td>\n",
       "      <td>0</td>\n",
       "      <td>...</td>\n",
       "      <td>0</td>\n",
       "      <td>0</td>\n",
       "      <td>0</td>\n",
       "      <td>0</td>\n",
       "      <td>0</td>\n",
       "      <td>0</td>\n",
       "      <td>0</td>\n",
       "      <td>0</td>\n",
       "      <td>0</td>\n",
       "      <td>0</td>\n",
       "    </tr>\n",
       "    <tr>\n",
       "      <th>41996</th>\n",
       "      <td>1</td>\n",
       "      <td>0</td>\n",
       "      <td>0</td>\n",
       "      <td>0</td>\n",
       "      <td>0</td>\n",
       "      <td>0</td>\n",
       "      <td>0</td>\n",
       "      <td>0</td>\n",
       "      <td>0</td>\n",
       "      <td>0</td>\n",
       "      <td>...</td>\n",
       "      <td>0</td>\n",
       "      <td>0</td>\n",
       "      <td>0</td>\n",
       "      <td>0</td>\n",
       "      <td>0</td>\n",
       "      <td>0</td>\n",
       "      <td>0</td>\n",
       "      <td>0</td>\n",
       "      <td>0</td>\n",
       "      <td>0</td>\n",
       "    </tr>\n",
       "    <tr>\n",
       "      <th>41997</th>\n",
       "      <td>7</td>\n",
       "      <td>0</td>\n",
       "      <td>0</td>\n",
       "      <td>0</td>\n",
       "      <td>0</td>\n",
       "      <td>0</td>\n",
       "      <td>0</td>\n",
       "      <td>0</td>\n",
       "      <td>0</td>\n",
       "      <td>0</td>\n",
       "      <td>...</td>\n",
       "      <td>0</td>\n",
       "      <td>0</td>\n",
       "      <td>0</td>\n",
       "      <td>0</td>\n",
       "      <td>0</td>\n",
       "      <td>0</td>\n",
       "      <td>0</td>\n",
       "      <td>0</td>\n",
       "      <td>0</td>\n",
       "      <td>0</td>\n",
       "    </tr>\n",
       "    <tr>\n",
       "      <th>41998</th>\n",
       "      <td>6</td>\n",
       "      <td>0</td>\n",
       "      <td>0</td>\n",
       "      <td>0</td>\n",
       "      <td>0</td>\n",
       "      <td>0</td>\n",
       "      <td>0</td>\n",
       "      <td>0</td>\n",
       "      <td>0</td>\n",
       "      <td>0</td>\n",
       "      <td>...</td>\n",
       "      <td>0</td>\n",
       "      <td>0</td>\n",
       "      <td>0</td>\n",
       "      <td>0</td>\n",
       "      <td>0</td>\n",
       "      <td>0</td>\n",
       "      <td>0</td>\n",
       "      <td>0</td>\n",
       "      <td>0</td>\n",
       "      <td>0</td>\n",
       "    </tr>\n",
       "    <tr>\n",
       "      <th>41999</th>\n",
       "      <td>9</td>\n",
       "      <td>0</td>\n",
       "      <td>0</td>\n",
       "      <td>0</td>\n",
       "      <td>0</td>\n",
       "      <td>0</td>\n",
       "      <td>0</td>\n",
       "      <td>0</td>\n",
       "      <td>0</td>\n",
       "      <td>0</td>\n",
       "      <td>...</td>\n",
       "      <td>0</td>\n",
       "      <td>0</td>\n",
       "      <td>0</td>\n",
       "      <td>0</td>\n",
       "      <td>0</td>\n",
       "      <td>0</td>\n",
       "      <td>0</td>\n",
       "      <td>0</td>\n",
       "      <td>0</td>\n",
       "      <td>0</td>\n",
       "    </tr>\n",
       "  </tbody>\n",
       "</table>\n",
       "<p>42000 rows × 785 columns</p>\n",
       "</div>"
      ],
      "text/plain": [
       "       label  pixel0  pixel1  pixel2  pixel3  pixel4  pixel5  pixel6  pixel7  \\\n",
       "0          1       0       0       0       0       0       0       0       0   \n",
       "1          0       0       0       0       0       0       0       0       0   \n",
       "2          1       0       0       0       0       0       0       0       0   \n",
       "3          4       0       0       0       0       0       0       0       0   \n",
       "4          0       0       0       0       0       0       0       0       0   \n",
       "...      ...     ...     ...     ...     ...     ...     ...     ...     ...   \n",
       "41995      0       0       0       0       0       0       0       0       0   \n",
       "41996      1       0       0       0       0       0       0       0       0   \n",
       "41997      7       0       0       0       0       0       0       0       0   \n",
       "41998      6       0       0       0       0       0       0       0       0   \n",
       "41999      9       0       0       0       0       0       0       0       0   \n",
       "\n",
       "       pixel8  ...  pixel774  pixel775  pixel776  pixel777  pixel778  \\\n",
       "0           0  ...         0         0         0         0         0   \n",
       "1           0  ...         0         0         0         0         0   \n",
       "2           0  ...         0         0         0         0         0   \n",
       "3           0  ...         0         0         0         0         0   \n",
       "4           0  ...         0         0         0         0         0   \n",
       "...       ...  ...       ...       ...       ...       ...       ...   \n",
       "41995       0  ...         0         0         0         0         0   \n",
       "41996       0  ...         0         0         0         0         0   \n",
       "41997       0  ...         0         0         0         0         0   \n",
       "41998       0  ...         0         0         0         0         0   \n",
       "41999       0  ...         0         0         0         0         0   \n",
       "\n",
       "       pixel779  pixel780  pixel781  pixel782  pixel783  \n",
       "0             0         0         0         0         0  \n",
       "1             0         0         0         0         0  \n",
       "2             0         0         0         0         0  \n",
       "3             0         0         0         0         0  \n",
       "4             0         0         0         0         0  \n",
       "...         ...       ...       ...       ...       ...  \n",
       "41995         0         0         0         0         0  \n",
       "41996         0         0         0         0         0  \n",
       "41997         0         0         0         0         0  \n",
       "41998         0         0         0         0         0  \n",
       "41999         0         0         0         0         0  \n",
       "\n",
       "[42000 rows x 785 columns]"
      ]
     },
     "execution_count": 5,
     "metadata": {},
     "output_type": "execute_result"
    }
   ],
   "source": [
    "train"
   ]
  },
  {
   "cell_type": "code",
   "execution_count": 6,
   "id": "19a4c25d",
   "metadata": {},
   "outputs": [],
   "source": [
    "X_train = X_train / 255.0\n",
    "X_train = X_train.values.reshape(-1,28,28,1)"
   ]
  },
  {
   "cell_type": "code",
   "execution_count": 7,
   "id": "5d49f1b4",
   "metadata": {},
   "outputs": [],
   "source": [
    "X_train.shape\n",
    "X_train_green = np.empty(shape=(42000,28,28,3))\n",
    "X_train_red = np.empty(shape=(42000,28,28,3))\n",
    "X_train_blue = np.empty(shape=(42000,28,28,3))\n",
    "X_train_white = np.empty(shape=(42000,28,28,3))\n",
    "for i in range(len(X_train)):\n",
    "    X_train_green[i] = color_grayscale_arr(X_train[i,:,:,0],'green')\n",
    "    X_train_white[i] = color_grayscale_arr(X_train[i,:,:,0],'white')\n",
    "    X_train_red[i] = color_grayscale_arr(X_train[i,:,:,0],'red')\n",
    "    X_train_blue[i] = color_grayscale_arr(X_train[i,:,:,0],'blue')"
   ]
  },
  {
   "cell_type": "code",
   "execution_count": 8,
   "id": "cf30f509",
   "metadata": {},
   "outputs": [],
   "source": [
    "# X_train = X_train_green"
   ]
  },
  {
   "cell_type": "code",
   "execution_count": 9,
   "id": "6fb4869e",
   "metadata": {},
   "outputs": [],
   "source": [
    "# for i in range(len(new_arr)):\n",
    "#     new_arr[i] = color_grayscale_arr(X_train[i,:,:,0],'green')"
   ]
  },
  {
   "cell_type": "code",
   "execution_count": 10,
   "id": "3f27d519",
   "metadata": {},
   "outputs": [],
   "source": [
    "# new_arr"
   ]
  },
  {
   "cell_type": "code",
   "execution_count": 11,
   "id": "466fc8b8",
   "metadata": {},
   "outputs": [],
   "source": [
    "# s1 = X_train[0,:,:,0]\n",
    "# s1_test = color_grayscale_arr(s1,'green')\n",
    "# plt.imshow(s1)"
   ]
  },
  {
   "cell_type": "code",
   "execution_count": 12,
   "id": "30143b04",
   "metadata": {},
   "outputs": [],
   "source": [
    "# s1 = new_arr[0,:,:,:]\n",
    "# plt.imshow(s1)"
   ]
  },
  {
   "cell_type": "code",
   "execution_count": 13,
   "id": "9430d3bf",
   "metadata": {},
   "outputs": [],
   "source": [
    "# X_train = X_train / 255.0\n",
    "# X_train = X_train.values.reshape(-1,28,28,3)\n",
    "Y_train = tf.keras.utils.to_categorical(Y_train, num_classes = 10)\n",
    "\n",
    "X_train_green, X_test_green, Y_train_green, Y_test_green = train_test_split(X_train_green, Y_train, test_size = 0.90, random_state=42)\n",
    "X_test_green, _, Y_test_green, _ = train_test_split(X_test_green, Y_test_green, test_size = 0.9, random_state=42)\n",
    "\n",
    "X_train_red, X_test_red, Y_train_red, Y_test_red = train_test_split(X_train_red, Y_train, test_size = 0.90, random_state=42)\n",
    "X_test_red, _, Y_test_red, _ = train_test_split(X_test_red, Y_test_red, test_size = 0.9, random_state=42)\n",
    "\n",
    "X_train_blue, X_test_blue, Y_train_blue, Y_test_blue = train_test_split(X_train_blue, Y_train, test_size = 0.90, random_state=42)\n",
    "X_test_blue, _, Y_test_blue, _ = train_test_split(X_test_blue, Y_test_blue, test_size = 0.9, random_state=42)\n",
    "\n",
    "X_train_white, X_test_white, Y_train_white, Y_test_white = train_test_split(X_train_white, Y_train, test_size = 0.90, random_state=42)\n",
    "X_test_white, _, Y_test_white, _ = train_test_split(X_test_white, Y_test_white, test_size = 0.9, random_state=42)\n"
   ]
  },
  {
   "cell_type": "code",
   "execution_count": 14,
   "id": "d42bbe32",
   "metadata": {},
   "outputs": [],
   "source": [
    "# X_train, X_test, Y_train, Y_test = train_test_split(X_train, Y_train, test_size = 0.90, random_state=42)\n",
    "# X_test, X_val, Y_test, Y_val = train_test_split(X_test, Y_test, test_size = 0.9, random_state=42)"
   ]
  },
  {
   "cell_type": "code",
   "execution_count": 15,
   "id": "fca325d3",
   "metadata": {},
   "outputs": [
    {
     "name": "stdout",
     "output_type": "stream",
     "text": [
      "(4200, 28, 28, 3)\n",
      "(3780, 28, 28, 3)\n"
     ]
    }
   ],
   "source": [
    "print(X_train_green.shape)\n",
    "print(X_test_green.shape)\n",
    "# print(X_val.shape)"
   ]
  },
  {
   "cell_type": "code",
   "execution_count": 16,
   "id": "3e3df0dd",
   "metadata": {},
   "outputs": [],
   "source": [
    "# sample_number = 10\n",
    "# X_train[sample_number, :, :, 0]\n",
    "# plt.imshow(X_train[sample_number, :, :, :])\n",
    "# print(\"True label: {}\".format(np.argmax(Y_train[sample_number], axis=-1)))"
   ]
  },
  {
   "cell_type": "code",
   "execution_count": 17,
   "id": "05c2a3cf",
   "metadata": {},
   "outputs": [
    {
     "data": {
      "text/plain": [
       "(28, 28, 3)"
      ]
     },
     "execution_count": 17,
     "metadata": {},
     "output_type": "execute_result"
    }
   ],
   "source": [
    "X_train_green.shape[1:]"
   ]
  },
  {
   "cell_type": "code",
   "execution_count": 18,
   "id": "4b397a29",
   "metadata": {},
   "outputs": [],
   "source": [
    "# test = color_grayscale_arr(X_train[sample_number, :, :, 0],'red')\n",
    "# old_test = X_train[sample_number, :, :, ]\n",
    "# plt.imshow(test)\n",
    "\n",
    "# print(test.shape)"
   ]
  },
  {
   "cell_type": "code",
   "execution_count": 19,
   "id": "d25466bf",
   "metadata": {},
   "outputs": [],
   "source": [
    "model = tf.keras.models.Sequential()\n",
    "model.add(tf.keras.layers.Conv2D(32, kernel_size=(3, 3),\n",
    "                 activation='relu',\n",
    "                 input_shape=(28,28,3)))\n",
    "model.add(tf.keras.layers.Conv2D(64, (3, 3), activation='relu'))\n",
    "model.add(tf.keras.layers.MaxPooling2D(pool_size=(2, 2)))\n",
    "model.add(tf.keras.layers.Dropout(0.25))\n",
    "model.add(tf.keras.layers.Flatten())\n",
    "model.add(tf.keras.layers.Dense(128, activation='relu'))\n",
    "model.add(tf.keras.layers.Dropout(0.5))\n",
    "model.add(tf.keras.layers.Dense(10, activation='softmax'))"
   ]
  },
  {
   "cell_type": "code",
   "execution_count": 20,
   "id": "cd84e9ed",
   "metadata": {},
   "outputs": [
    {
     "name": "stdout",
     "output_type": "stream",
     "text": [
      "Model: \"sequential\"\n",
      "_________________________________________________________________\n",
      "Layer (type)                 Output Shape              Param #   \n",
      "=================================================================\n",
      "conv2d (Conv2D)              (None, 26, 26, 32)        896       \n",
      "_________________________________________________________________\n",
      "conv2d_1 (Conv2D)            (None, 24, 24, 64)        18496     \n",
      "_________________________________________________________________\n",
      "max_pooling2d (MaxPooling2D) (None, 12, 12, 64)        0         \n",
      "_________________________________________________________________\n",
      "dropout (Dropout)            (None, 12, 12, 64)        0         \n",
      "_________________________________________________________________\n",
      "flatten (Flatten)            (None, 9216)              0         \n",
      "_________________________________________________________________\n",
      "dense (Dense)                (None, 128)               1179776   \n",
      "_________________________________________________________________\n",
      "dropout_1 (Dropout)          (None, 128)               0         \n",
      "_________________________________________________________________\n",
      "dense_1 (Dense)              (None, 10)                1290      \n",
      "=================================================================\n",
      "Total params: 1,200,458\n",
      "Trainable params: 1,200,458\n",
      "Non-trainable params: 0\n",
      "_________________________________________________________________\n"
     ]
    }
   ],
   "source": [
    "model.summary()"
   ]
  },
  {
   "cell_type": "code",
   "execution_count": 21,
   "id": "a09b33e2",
   "metadata": {},
   "outputs": [],
   "source": [
    "optimizer = tf.keras.optimizers.Adam(lr=0.01)\n",
    "model.compile(loss=tf.keras.losses.categorical_crossentropy,\n",
    "              metrics=['accuracy'], optimizer=optimizer)"
   ]
  },
  {
   "cell_type": "code",
   "execution_count": 22,
   "id": "f76eae8b",
   "metadata": {},
   "outputs": [
    {
     "name": "stdout",
     "output_type": "stream",
     "text": [
      "Epoch 1/10\n",
      "119/119 [==============================] - 8s 65ms/step - loss: 1.5468 - accuracy: 0.4868 - val_loss: 0.1420 - val_accuracy: 0.9643\n",
      "Epoch 2/10\n",
      "119/119 [==============================] - 7s 56ms/step - loss: 0.3812 - accuracy: 0.8842 - val_loss: 0.1707 - val_accuracy: 0.9429\n",
      "Epoch 3/10\n",
      "119/119 [==============================] - 7s 59ms/step - loss: 0.2613 - accuracy: 0.9224 - val_loss: 0.0984 - val_accuracy: 0.9690\n",
      "Epoch 4/10\n",
      "119/119 [==============================] - 7s 62ms/step - loss: 0.2982 - accuracy: 0.9027 - val_loss: 0.1057 - val_accuracy: 0.9667\n",
      "Epoch 5/10\n",
      "119/119 [==============================] - 7s 61ms/step - loss: 0.2292 - accuracy: 0.9302 - val_loss: 0.0858 - val_accuracy: 0.9643\n",
      "Epoch 6/10\n",
      "119/119 [==============================] - 7s 61ms/step - loss: 0.1802 - accuracy: 0.9433 - val_loss: 0.1028 - val_accuracy: 0.9690\n",
      "Epoch 7/10\n",
      "119/119 [==============================] - 7s 58ms/step - loss: 0.1841 - accuracy: 0.9384 - val_loss: 0.0709 - val_accuracy: 0.9857\n",
      "Epoch 8/10\n",
      "119/119 [==============================] - 6s 54ms/step - loss: 0.1474 - accuracy: 0.9536 - val_loss: 0.0901 - val_accuracy: 0.9810\n",
      "Epoch 9/10\n",
      "119/119 [==============================] - 6s 53ms/step - loss: 0.1557 - accuracy: 0.9528 - val_loss: 0.0991 - val_accuracy: 0.9738\n",
      "Epoch 10/10\n",
      "119/119 [==============================] - 6s 53ms/step - loss: 0.1494 - accuracy: 0.9473 - val_loss: 0.0929 - val_accuracy: 0.9738\n"
     ]
    }
   ],
   "source": [
    "history = model.fit(X_train_green, Y_train_green, epochs=10, validation_split=0.1)"
   ]
  },
  {
   "cell_type": "code",
   "execution_count": 23,
   "id": "facb6186",
   "metadata": {},
   "outputs": [
    {
     "data": {
      "image/png": "[encoded data removed]",
      "text/plain": [
       "<Figure size 432x288 with 1 Axes>"
      ]
     },
     "metadata": {
      "needs_background": "light"
     },
     "output_type": "display_data"
    },
    {
     "data": {
      "image/png": "[encoded data removed]",
      "text/plain": [
       "<Figure size 432x288 with 1 Axes>"
      ]
     },
     "metadata": {
      "needs_background": "light"
     },
     "output_type": "display_data"
    }
   ],
   "source": [
    "plt.plot(history.history['accuracy'])\n",
    "plt.plot(history.history['val_accuracy'])\n",
    "plt.title('Model accuracy')\n",
    "plt.ylabel('Accuracy')\n",
    "plt.xlabel('Epoch')\n",
    "plt.legend(['Train', 'Test'], loc='upper left')\n",
    "plt.show()\n",
    "\n",
    "plt.plot(history.history['loss'])\n",
    "plt.plot(history.history['val_loss'])\n",
    "plt.title('Model loss')\n",
    "plt.ylabel('Loss')\n",
    "plt.xlabel('Epoch')\n",
    "plt.legend(['Train', 'Test'], loc='upper left')\n",
    "plt.show()"
   ]
  },
  {
   "cell_type": "code",
   "execution_count": 24,
   "id": "d454e8c6",
   "metadata": {},
   "outputs": [
    {
     "name": "stdout",
     "output_type": "stream",
     "text": [
      "119/119 [==============================] - 1s 8ms/step - loss: 0.1590 - accuracy: 0.9606\n",
      "[0.1590144783258438, 0.9605820178985596]\n"
     ]
    }
   ],
   "source": [
    "evaluation = model.evaluate(X_test_green, Y_test_green, verbose=1)\n",
    "print(evaluation)"
   ]
  },
  {
   "cell_type": "code",
   "execution_count": 25,
   "id": "a72a132b",
   "metadata": {},
   "outputs": [],
   "source": [
    "# Prediction for 1 image\n",
    "sample_nb = 2\n",
    "output = model(X_test_green[sample_nb:sample_nb+1, :, :, :])"
   ]
  },
  {
   "cell_type": "code",
   "execution_count": 26,
   "id": "5066a559",
   "metadata": {},
   "outputs": [
    {
     "name": "stdout",
     "output_type": "stream",
     "text": [
      "Predicted label: 9\n"
     ]
    },
    {
     "data": {
      "image/png": "[encoded data removed]",
      "text/plain": [
       "<Figure size 432x288 with 1 Axes>"
      ]
     },
     "metadata": {
      "needs_background": "light"
     },
     "output_type": "display_data"
    }
   ],
   "source": [
    "plt.imshow(X_test_green[sample_nb, :, :, :])\n",
    "print(\"Predicted label: {}\".format(np.argmax(output[0]), axis=-1))"
   ]
  },
  {
   "cell_type": "code",
   "execution_count": 27,
   "id": "37f8000d",
   "metadata": {},
   "outputs": [
    {
     "name": "stdout",
     "output_type": "stream",
     "text": [
      "<tensorflow.python.keras.layers.convolutional.Conv2D object at 0x7ffd46245668>\n",
      "<tensorflow.python.keras.layers.convolutional.Conv2D object at 0x7ffc5ede46a0>\n",
      "<tensorflow.python.keras.layers.pooling.MaxPooling2D object at 0x7ffc1ab05b70>\n",
      "<tensorflow.python.keras.layers.core.Dropout object at 0x7ffc1ab18d68>\n",
      "<tensorflow.python.keras.layers.core.Flatten object at 0x7ffc1ab18390>\n",
      "<tensorflow.python.keras.layers.core.Dense object at 0x7ffc1ab18240>\n",
      "<tensorflow.python.keras.layers.core.Dropout object at 0x7ffc1ab1f710>\n",
      "<tensorflow.python.keras.layers.core.Dense object at 0x7ffc1b8dfbe0>\n"
     ]
    }
   ],
   "source": [
    "for l in model.layers:\n",
    "    print(l)"
   ]
  },
  {
   "cell_type": "code",
   "execution_count": 28,
   "id": "b5a59093",
   "metadata": {},
   "outputs": [],
   "source": [
    "from tensorflow.keras import models\n",
    "\n",
    "layer_outputs = [layer.output for layer in model.layers[:3]] \n",
    "# Extracts the outputs of the top 12 layers\n",
    "activation_model = models.Model(inputs=model.input, outputs=layer_outputs) # Creates a model that will return these outputs, given the model input"
   ]
  },
  {
   "cell_type": "code",
   "execution_count": 29,
   "id": "efa2ffc3",
   "metadata": {},
   "outputs": [],
   "source": [
    "# This func will compute layerwise average activations and the maximum of these means\n",
    "def compute_avg_activation(activations,normalize=False):\n",
    "    nb_layers = len(activations)\n",
    "    layers_means = []\n",
    "    lambdas = []\n",
    "    for l in range(nb_layers):\n",
    "        layer_output = activations[l][0]\n",
    "        layer_mean_of_activs = [] # Stores average activations per layer\n",
    "        for i in range (layer_output.shape[2]): # loop over each filter (3rd dimention) \n",
    "            filter_mean_activ = layer_output[:,:,i].mean() # Get the mean (A hat, from the paper)\n",
    "            layer_mean_of_activs.append(filter_mean_activ)\n",
    "        layer_max_activ = max(layer_mean_of_activs) # Get max (This is lambda of the layer)\n",
    "        lambdas.append(layer_max_activ)\n",
    "        if(normalize):\n",
    "            layer_mean_of_activs = [x/layer_max_activ for x in layer_mean_of_activs] # Normalize\n",
    "        layers_means.append(layer_mean_of_activs) # This is lambda prime of layer\n",
    "    return layers_means, lambdas"
   ]
  },
  {
   "cell_type": "code",
   "execution_count": 30,
   "id": "83bc1eeb",
   "metadata": {},
   "outputs": [],
   "source": [
    "from tqdm import tqdm"
   ]
  },
  {
   "cell_type": "code",
   "execution_count": 31,
   "id": "a2a06f89",
   "metadata": {},
   "outputs": [],
   "source": [
    "# Dataset should be for one target ethnicity \n",
    "def compute_lambdas(test_samples):\n",
    "    lambdas = []\n",
    "    for i in tqdm(range(len(test_samples))):\n",
    "        image = test_samples[i]\n",
    "        image = np.reshape(image,[1,28,28,3])\n",
    "        all_outputs = activation_model.predict(image)\n",
    "        means,layers_lambdas = compute_avg_activation(all_outputs,True)\n",
    "        lambdas.append(layers_lambdas)\n",
    "    lambdas = np.array(lambdas)\n",
    "    lambdas_max = np.max(lambdas,0) # store the max per layer\n",
    "    lambdas_min = np.min(lambdas,0) # store the min per layer\n",
    "    return lambdas_max,lambdas_min"
   ]
  },
  {
   "cell_type": "code",
   "execution_count": 32,
   "id": "16ac0a2f",
   "metadata": {},
   "outputs": [
    {
     "name": "stderr",
     "output_type": "stream",
     "text": [
      "100%|██████████| 3780/3780 [02:51<00:00, 22.07it/s]\n"
     ]
    }
   ],
   "source": [
    "lambdas_max_blue, lambdas_min_blue = compute_lambdas(X_test_blue)"
   ]
  },
  {
   "cell_type": "code",
   "execution_count": 33,
   "id": "8076d6f4",
   "metadata": {},
   "outputs": [
    {
     "name": "stderr",
     "output_type": "stream",
     "text": [
      "100%|██████████| 3780/3780 [02:49<00:00, 22.28it/s]\n"
     ]
    }
   ],
   "source": [
    "lambdas_max_green, lambdas_min_green = compute_lambdas(X_test_green)"
   ]
  },
  {
   "cell_type": "code",
   "execution_count": 34,
   "id": "eeed1ead",
   "metadata": {},
   "outputs": [
    {
     "name": "stderr",
     "output_type": "stream",
     "text": [
      "100%|██████████| 3780/3780 [02:50<00:00, 22.11it/s]\n"
     ]
    }
   ],
   "source": [
    "lambdas_max_red, lambdas_min_red = compute_lambdas(X_test_red)"
   ]
  },
  {
   "cell_type": "code",
   "execution_count": 35,
   "id": "19f37d59",
   "metadata": {},
   "outputs": [
    {
     "name": "stderr",
     "output_type": "stream",
     "text": [
      "100%|██████████| 3780/3780 [02:49<00:00, 22.31it/s]\n"
     ]
    }
   ],
   "source": [
    "lambdas_max_white, lambdas_min_white = compute_lambdas(X_test_white)"
   ]
  },
  {
   "cell_type": "code",
   "execution_count": 36,
   "id": "3d8de3df",
   "metadata": {},
   "outputs": [],
   "source": [
    "layers = [x for x in range(0,3)]"
   ]
  },
  {
   "cell_type": "code",
   "execution_count": 37,
   "id": "004e7bef",
   "metadata": {},
   "outputs": [
    {
     "data": {
      "image/png": "[encoded data removed]",
      "text/plain": [
       "<Figure size 432x288 with 1 Axes>"
      ]
     },
     "metadata": {
      "needs_background": "light"
     },
     "output_type": "display_data"
    }
   ],
   "source": [
    "plt.plot(layers, lambdas_max_blue,'blue')\n",
    "plt.plot(layers, lambdas_max_green,'green')\n",
    "plt.plot(layers, lambdas_max_red,'red')\n",
    "# plt.plot(layers, lambdas_max_white,'black')\n",
    "plt.legend(['Blue MNIST','Green MNIST','Red MNIST'])\n",
    "plt.title('Activations per Category')\n",
    "plt.xlabel('Layer')\n",
    "plt.ylabel('Activation Norm')\n",
    "plt.show()"
   ]
  },
  {
   "cell_type": "code",
   "execution_count": null,
   "id": "f9121a03",
   "metadata": {},
   "outputs": [],
   "source": []
  }
 ],
 "metadata": {
  "kernelspec": {
   "display_name": "Python 3",
   "language": "python",
   "name": "python3"
  },
  "language_info": {
   "codemirror_mode": {
    "name": "ipython",
    "version": 3
   },
   "file_extension": ".py",
   "mimetype": "text/x-python",
   "name": "python",
   "nbconvert_exporter": "python",
   "pygments_lexer": "ipython3",
   "version": "3.7.1"
  }
 },
 "nbformat": 4,
 "nbformat_minor": 5
}
